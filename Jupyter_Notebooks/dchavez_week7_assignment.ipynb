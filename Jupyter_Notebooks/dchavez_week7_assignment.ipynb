{
 "cells": [
  {
   "cell_type": "code",
   "execution_count": 1,
   "id": "cd2f308b-77c0-4f8d-a567-9a4738c22eac",
   "metadata": {},
   "outputs": [],
   "source": [
    "import seaborn as sns\n",
    "import matplotlib.pyplot as plt\n",
    "import numpy as np\n",
    "import pandas as pd"
   ]
  },
  {
   "cell_type": "markdown",
   "id": "21e2434b-dcbc-4cd1-b7fa-b5ee23945d9a",
   "metadata": {},
   "source": [
    "#### Dataset 1"
   ]
  },
  {
   "cell_type": "code",
   "execution_count": 96,
   "id": "df2ddb26-497e-4296-ad05-b1f64a3d85e3",
   "metadata": {},
   "outputs": [],
   "source": [
    "# Read CSV file 1\n",
    "# https://www.kaggle.com/datasets/ruthgn/new-orleans-airbnb-listings-and-reviews/code\n",
    "nola_data = pd.read_csv('new_orleans_airbnb_listings.csv')"
   ]
  },
  {
   "cell_type": "code",
   "execution_count": 28,
   "id": "e9f6d347-1e5c-485a-9fae-5a7f90380f1c",
   "metadata": {},
   "outputs": [],
   "source": [
    "selected_cols1 = ['id', 'name', 'host_id', 'host_response_time', 'review_scores_rating', 'reviews_per_month']\n",
    "nola_data = nola_data[selected_cols1]"
   ]
  },
  {
   "cell_type": "code",
   "execution_count": 44,
   "id": "45212ce9-75f9-480f-ad8f-4a8e2f85c604",
   "metadata": {},
   "outputs": [
    {
     "data": {
      "text/html": [
       "<div>\n",
       "<style scoped>\n",
       "    .dataframe tbody tr th:only-of-type {\n",
       "        vertical-align: middle;\n",
       "    }\n",
       "\n",
       "    .dataframe tbody tr th {\n",
       "        vertical-align: top;\n",
       "    }\n",
       "\n",
       "    .dataframe thead th {\n",
       "        text-align: right;\n",
       "    }\n",
       "</style>\n",
       "<table border=\"1\" class=\"dataframe\">\n",
       "  <thead>\n",
       "    <tr style=\"text-align: right;\">\n",
       "      <th></th>\n",
       "      <th>id</th>\n",
       "      <th>name</th>\n",
       "      <th>host_id</th>\n",
       "      <th>host_response_time</th>\n",
       "      <th>review_scores_rating</th>\n",
       "      <th>reviews_per_month</th>\n",
       "    </tr>\n",
       "  </thead>\n",
       "  <tbody>\n",
       "    <tr>\n",
       "      <th>0</th>\n",
       "      <td>19091</td>\n",
       "      <td>Fully Furnished Cozy Apartment</td>\n",
       "      <td>72880</td>\n",
       "      <td>within an hour</td>\n",
       "      <td>4.89</td>\n",
       "      <td>5.07</td>\n",
       "    </tr>\n",
       "    <tr>\n",
       "      <th>1</th>\n",
       "      <td>26834</td>\n",
       "      <td>Maison Mandeville in the Marigny</td>\n",
       "      <td>114452</td>\n",
       "      <td>within a day</td>\n",
       "      <td>4.96</td>\n",
       "      <td>2.30</td>\n",
       "    </tr>\n",
       "    <tr>\n",
       "      <th>2</th>\n",
       "      <td>71624</td>\n",
       "      <td>Ravenwood Manor (Historic Bywater)</td>\n",
       "      <td>367223</td>\n",
       "      <td>within an hour</td>\n",
       "      <td>4.94</td>\n",
       "      <td>2.21</td>\n",
       "    </tr>\n",
       "    <tr>\n",
       "      <th>3</th>\n",
       "      <td>74498</td>\n",
       "      <td>Maison Marais 1: Large Local Living</td>\n",
       "      <td>391462</td>\n",
       "      <td>within an hour</td>\n",
       "      <td>4.90</td>\n",
       "      <td>8.07</td>\n",
       "    </tr>\n",
       "    <tr>\n",
       "      <th>4</th>\n",
       "      <td>79536</td>\n",
       "      <td>FeelAtHomeInNO PrivateApt</td>\n",
       "      <td>428362</td>\n",
       "      <td>within an hour</td>\n",
       "      <td>4.86</td>\n",
       "      <td>5.00</td>\n",
       "    </tr>\n",
       "  </tbody>\n",
       "</table>\n",
       "</div>"
      ],
      "text/plain": [
       "      id                                 name  host_id host_response_time  \\\n",
       "0  19091       Fully Furnished Cozy Apartment    72880     within an hour   \n",
       "1  26834     Maison Mandeville in the Marigny   114452       within a day   \n",
       "2  71624   Ravenwood Manor (Historic Bywater)   367223     within an hour   \n",
       "3  74498  Maison Marais 1: Large Local Living   391462     within an hour   \n",
       "4  79536            FeelAtHomeInNO PrivateApt   428362     within an hour   \n",
       "\n",
       "   review_scores_rating  reviews_per_month  \n",
       "0                  4.89               5.07  \n",
       "1                  4.96               2.30  \n",
       "2                  4.94               2.21  \n",
       "3                  4.90               8.07  \n",
       "4                  4.86               5.00  "
      ]
     },
     "execution_count": 44,
     "metadata": {},
     "output_type": "execute_result"
    }
   ],
   "source": [
    "nola_data = nola_data.dropna()\n",
    "nola_data.head()"
   ]
  },
  {
   "cell_type": "markdown",
   "id": "b12296f9-a4e7-4592-b1d0-5229afb42508",
   "metadata": {},
   "source": [
    "#### Dataset 2"
   ]
  },
  {
   "cell_type": "code",
   "execution_count": 97,
   "id": "0745a3bf-516b-4214-92f7-03fe21372872",
   "metadata": {},
   "outputs": [],
   "source": [
    "# Read CSV file 2\n",
    "# https://www.kaggle.com/datasets/nadyinky/sephora-products-and-skincare-reviews/code\n",
    "sephora_data = pd.read_csv('product_info.csv')"
   ]
  },
  {
   "cell_type": "code",
   "execution_count": 47,
   "id": "654dadeb-77fb-41fd-928a-decf947689ad",
   "metadata": {},
   "outputs": [],
   "source": [
    "selected_cols2 = ['product_id', 'product_name', 'brand_id', 'brand_name', 'loves_count', 'rating', 'reviews']\n",
    "sephora_data = sephora_data[selected_cols2]"
   ]
  },
  {
   "cell_type": "code",
   "execution_count": 43,
   "id": "45b67fb0-8b5c-4434-8ae3-9c3706a19e67",
   "metadata": {},
   "outputs": [
    {
     "data": {
      "text/html": [
       "<div>\n",
       "<style scoped>\n",
       "    .dataframe tbody tr th:only-of-type {\n",
       "        vertical-align: middle;\n",
       "    }\n",
       "\n",
       "    .dataframe tbody tr th {\n",
       "        vertical-align: top;\n",
       "    }\n",
       "\n",
       "    .dataframe thead th {\n",
       "        text-align: right;\n",
       "    }\n",
       "</style>\n",
       "<table border=\"1\" class=\"dataframe\">\n",
       "  <thead>\n",
       "    <tr style=\"text-align: right;\">\n",
       "      <th></th>\n",
       "      <th>product_id</th>\n",
       "      <th>product_name</th>\n",
       "      <th>brand_id</th>\n",
       "      <th>brand_name</th>\n",
       "      <th>loves_count</th>\n",
       "      <th>rating</th>\n",
       "      <th>reviews</th>\n",
       "    </tr>\n",
       "  </thead>\n",
       "  <tbody>\n",
       "    <tr>\n",
       "      <th>0</th>\n",
       "      <td>P473671</td>\n",
       "      <td>Fragrance Discovery Set</td>\n",
       "      <td>6342</td>\n",
       "      <td>19-69</td>\n",
       "      <td>6320</td>\n",
       "      <td>3.6364</td>\n",
       "      <td>11.0</td>\n",
       "    </tr>\n",
       "    <tr>\n",
       "      <th>1</th>\n",
       "      <td>P473668</td>\n",
       "      <td>La Habana Eau de Parfum</td>\n",
       "      <td>6342</td>\n",
       "      <td>19-69</td>\n",
       "      <td>3827</td>\n",
       "      <td>4.1538</td>\n",
       "      <td>13.0</td>\n",
       "    </tr>\n",
       "    <tr>\n",
       "      <th>2</th>\n",
       "      <td>P473662</td>\n",
       "      <td>Rainbow Bar Eau de Parfum</td>\n",
       "      <td>6342</td>\n",
       "      <td>19-69</td>\n",
       "      <td>3253</td>\n",
       "      <td>4.2500</td>\n",
       "      <td>16.0</td>\n",
       "    </tr>\n",
       "    <tr>\n",
       "      <th>3</th>\n",
       "      <td>P473660</td>\n",
       "      <td>Kasbah Eau de Parfum</td>\n",
       "      <td>6342</td>\n",
       "      <td>19-69</td>\n",
       "      <td>3018</td>\n",
       "      <td>4.4762</td>\n",
       "      <td>21.0</td>\n",
       "    </tr>\n",
       "    <tr>\n",
       "      <th>4</th>\n",
       "      <td>P473658</td>\n",
       "      <td>Purple Haze Eau de Parfum</td>\n",
       "      <td>6342</td>\n",
       "      <td>19-69</td>\n",
       "      <td>2691</td>\n",
       "      <td>3.2308</td>\n",
       "      <td>13.0</td>\n",
       "    </tr>\n",
       "  </tbody>\n",
       "</table>\n",
       "</div>"
      ],
      "text/plain": [
       "  product_id               product_name  brand_id brand_name  loves_count  \\\n",
       "0    P473671    Fragrance Discovery Set      6342      19-69         6320   \n",
       "1    P473668    La Habana Eau de Parfum      6342      19-69         3827   \n",
       "2    P473662  Rainbow Bar Eau de Parfum      6342      19-69         3253   \n",
       "3    P473660       Kasbah Eau de Parfum      6342      19-69         3018   \n",
       "4    P473658  Purple Haze Eau de Parfum      6342      19-69         2691   \n",
       "\n",
       "   rating  reviews  \n",
       "0  3.6364     11.0  \n",
       "1  4.1538     13.0  \n",
       "2  4.2500     16.0  \n",
       "3  4.4762     21.0  \n",
       "4  3.2308     13.0  "
      ]
     },
     "execution_count": 43,
     "metadata": {},
     "output_type": "execute_result"
    }
   ],
   "source": [
    "sephora_data = sephora_data.dropna()\n",
    "sephora_data.head()"
   ]
  },
  {
   "cell_type": "markdown",
   "id": "21fc80d6-023e-4d4e-af1a-8374f1b26a6e",
   "metadata": {},
   "source": [
    "#### Merged Dataset"
   ]
  },
  {
   "cell_type": "code",
   "execution_count": 45,
   "id": "f89ff51e-3776-4f11-839b-b7bd7eded95c",
   "metadata": {
    "scrolled": true
   },
   "outputs": [
    {
     "data": {
      "text/html": [
       "<div>\n",
       "<style scoped>\n",
       "    .dataframe tbody tr th:only-of-type {\n",
       "        vertical-align: middle;\n",
       "    }\n",
       "\n",
       "    .dataframe tbody tr th {\n",
       "        vertical-align: top;\n",
       "    }\n",
       "\n",
       "    .dataframe thead th {\n",
       "        text-align: right;\n",
       "    }\n",
       "</style>\n",
       "<table border=\"1\" class=\"dataframe\">\n",
       "  <thead>\n",
       "    <tr style=\"text-align: right;\">\n",
       "      <th></th>\n",
       "      <th>id</th>\n",
       "      <th>name</th>\n",
       "      <th>host_id</th>\n",
       "      <th>host_response_time</th>\n",
       "      <th>review_scores_rating</th>\n",
       "      <th>reviews_per_month</th>\n",
       "      <th>product_id</th>\n",
       "      <th>product_name</th>\n",
       "      <th>brand_id</th>\n",
       "      <th>brand_name</th>\n",
       "      <th>loves_count</th>\n",
       "      <th>rating</th>\n",
       "      <th>reviews</th>\n",
       "    </tr>\n",
       "  </thead>\n",
       "  <tbody>\n",
       "    <tr>\n",
       "      <th>0</th>\n",
       "      <td>19091.0</td>\n",
       "      <td>Fully Furnished Cozy Apartment</td>\n",
       "      <td>72880.0</td>\n",
       "      <td>within an hour</td>\n",
       "      <td>4.89</td>\n",
       "      <td>5.07</td>\n",
       "      <td>P473671</td>\n",
       "      <td>Fragrance Discovery Set</td>\n",
       "      <td>6342.0</td>\n",
       "      <td>19-69</td>\n",
       "      <td>6320.0</td>\n",
       "      <td>3.6364</td>\n",
       "      <td>11.0</td>\n",
       "    </tr>\n",
       "    <tr>\n",
       "      <th>1</th>\n",
       "      <td>26834.0</td>\n",
       "      <td>Maison Mandeville in the Marigny</td>\n",
       "      <td>114452.0</td>\n",
       "      <td>within a day</td>\n",
       "      <td>4.96</td>\n",
       "      <td>2.30</td>\n",
       "      <td>P473668</td>\n",
       "      <td>La Habana Eau de Parfum</td>\n",
       "      <td>6342.0</td>\n",
       "      <td>19-69</td>\n",
       "      <td>3827.0</td>\n",
       "      <td>4.1538</td>\n",
       "      <td>13.0</td>\n",
       "    </tr>\n",
       "    <tr>\n",
       "      <th>2</th>\n",
       "      <td>71624.0</td>\n",
       "      <td>Ravenwood Manor (Historic Bywater)</td>\n",
       "      <td>367223.0</td>\n",
       "      <td>within an hour</td>\n",
       "      <td>4.94</td>\n",
       "      <td>2.21</td>\n",
       "      <td>P473662</td>\n",
       "      <td>Rainbow Bar Eau de Parfum</td>\n",
       "      <td>6342.0</td>\n",
       "      <td>19-69</td>\n",
       "      <td>3253.0</td>\n",
       "      <td>4.2500</td>\n",
       "      <td>16.0</td>\n",
       "    </tr>\n",
       "    <tr>\n",
       "      <th>3</th>\n",
       "      <td>74498.0</td>\n",
       "      <td>Maison Marais 1: Large Local Living</td>\n",
       "      <td>391462.0</td>\n",
       "      <td>within an hour</td>\n",
       "      <td>4.90</td>\n",
       "      <td>8.07</td>\n",
       "      <td>P473660</td>\n",
       "      <td>Kasbah Eau de Parfum</td>\n",
       "      <td>6342.0</td>\n",
       "      <td>19-69</td>\n",
       "      <td>3018.0</td>\n",
       "      <td>4.4762</td>\n",
       "      <td>21.0</td>\n",
       "    </tr>\n",
       "    <tr>\n",
       "      <th>4</th>\n",
       "      <td>79536.0</td>\n",
       "      <td>FeelAtHomeInNO PrivateApt</td>\n",
       "      <td>428362.0</td>\n",
       "      <td>within an hour</td>\n",
       "      <td>4.86</td>\n",
       "      <td>5.00</td>\n",
       "      <td>P473658</td>\n",
       "      <td>Purple Haze Eau de Parfum</td>\n",
       "      <td>6342.0</td>\n",
       "      <td>19-69</td>\n",
       "      <td>2691.0</td>\n",
       "      <td>3.2308</td>\n",
       "      <td>13.0</td>\n",
       "    </tr>\n",
       "  </tbody>\n",
       "</table>\n",
       "</div>"
      ],
      "text/plain": [
       "        id                                 name   host_id host_response_time  \\\n",
       "0  19091.0       Fully Furnished Cozy Apartment   72880.0     within an hour   \n",
       "1  26834.0     Maison Mandeville in the Marigny  114452.0       within a day   \n",
       "2  71624.0   Ravenwood Manor (Historic Bywater)  367223.0     within an hour   \n",
       "3  74498.0  Maison Marais 1: Large Local Living  391462.0     within an hour   \n",
       "4  79536.0            FeelAtHomeInNO PrivateApt  428362.0     within an hour   \n",
       "\n",
       "   review_scores_rating  reviews_per_month product_id  \\\n",
       "0                  4.89               5.07    P473671   \n",
       "1                  4.96               2.30    P473668   \n",
       "2                  4.94               2.21    P473662   \n",
       "3                  4.90               8.07    P473660   \n",
       "4                  4.86               5.00    P473658   \n",
       "\n",
       "                product_name  brand_id brand_name  loves_count  rating  \\\n",
       "0    Fragrance Discovery Set    6342.0      19-69       6320.0  3.6364   \n",
       "1    La Habana Eau de Parfum    6342.0      19-69       3827.0  4.1538   \n",
       "2  Rainbow Bar Eau de Parfum    6342.0      19-69       3253.0  4.2500   \n",
       "3       Kasbah Eau de Parfum    6342.0      19-69       3018.0  4.4762   \n",
       "4  Purple Haze Eau de Parfum    6342.0      19-69       2691.0  3.2308   \n",
       "\n",
       "   reviews  \n",
       "0     11.0  \n",
       "1     13.0  \n",
       "2     16.0  \n",
       "3     21.0  \n",
       "4     13.0  "
      ]
     },
     "execution_count": 45,
     "metadata": {},
     "output_type": "execute_result"
    }
   ],
   "source": [
    "big_data = pd.concat([nola_data, sephora_data], axis=1)\n",
    "big_data = big_data.head(1000)\n",
    "big_data.head()"
   ]
  },
  {
   "cell_type": "markdown",
   "id": "49933713-46e9-4721-9556-f917f5ceea6e",
   "metadata": {},
   "source": [
    "#### Plots"
   ]
  },
  {
   "cell_type": "code",
   "execution_count": 54,
   "id": "36110bc9-7a2a-4d49-a532-18c429b3dccf",
   "metadata": {},
   "outputs": [
    {
     "data": {
      "image/png": "[encoded data removed]",
      "text/plain": [
       "<Figure size 640x480 with 1 Axes>"
      ]
     },
     "metadata": {},
     "output_type": "display_data"
    }
   ],
   "source": [
    "sns.histplot(data=big_data, y=\"host_response_time\", x=\"rating\", hue=\"host_response_time\", legend=False);"
   ]
  },
  {
   "cell_type": "code",
   "execution_count": 64,
   "id": "dfed484b-8e3a-497a-92d5-3c79c4ec6ecf",
   "metadata": {},
   "outputs": [
    {
     "data": {
      "image/png": "[encoded data removed]",
      "text/plain": [
       "<Figure size 2184.12x2000 with 4 Axes>"
      ]
     },
     "metadata": {},
     "output_type": "display_data"
    }
   ],
   "source": [
    "rel = sns.relplot(data=big_data, y=\"brand_name\", x=\"review_scores_rating\", hue=\"host_response_time\", col=\"host_response_time\", col_wrap=2, height=10)"
   ]
  },
  {
   "cell_type": "code",
   "execution_count": 70,
   "id": "86335ae5-9059-4f34-8891-8f4d8fa6ff9d",
   "metadata": {},
   "outputs": [
    {
     "data": {
      "image/png": "[encoded data removed]",
      "text/plain": [
       "<Figure size 600x600 with 3 Axes>"
      ]
     },
     "metadata": {},
     "output_type": "display_data"
    }
   ],
   "source": [
    "sns.jointplot(data=big_data, y=\"reviews_per_month\", x=\"brand_id\", hue=\"host_response_time\", legend=False);"
   ]
  },
  {
   "cell_type": "code",
   "execution_count": 73,
   "id": "41d9e173-fc64-45a4-b65b-551d26869d05",
   "metadata": {},
   "outputs": [],
   "source": [
    "import chart_studio.plotly as py\n",
    "import cufflinks as cf"
   ]
  },
  {
   "cell_type": "code",
   "execution_count": 74,
   "id": "6745ec48-8a79-4f43-be76-69079004373b",
   "metadata": {},
   "outputs": [],
   "source": [
    "from plotly.offline import download_plotlyjs, init_notebook_mode, plot, iplot"
   ]
  },
  {
   "cell_type": "code",
   "execution_count": 75,
   "id": "6bc17c05-58ef-44bd-9a0d-d74831d4fb85",
   "metadata": {},
   "outputs": [
    {
     "data": {
      "text/html": [
       "        <script type=\"text/javascript\">\n",
       "        window.PlotlyConfig = {MathJaxConfig: 'local'};\n",
       "        if (window.MathJax && window.MathJax.Hub && window.MathJax.Hub.Config) {window.MathJax.Hub.Config({SVG: {font: \"STIX-Web\"}});}\n",
       "        if (typeof require !== 'undefined') {\n",
       "        require.undef(\"plotly\");\n",
       "        requirejs.config({\n",
       "            paths: {\n",
       "                'plotly': ['https://cdn.plot.ly/plotly-2.30.0.min']\n",
       "            }\n",
       "        });\n",
       "        require(['plotly'], function(Plotly) {\n",
       "            window._Plotly = Plotly;\n",
       "        });\n",
       "        }\n",
       "        </script>\n",
       "        "
      ]
     },
     "metadata": {},
     "output_type": "display_data"
    }
   ],
   "source": [
    "init_notebook_mode(connected=True)"
   ]
  },
  {
   "cell_type": "code",
   "execution_count": 76,
   "id": "4e01ddd9-7364-42aa-92de-d3d0260ad8b4",
   "metadata": {},
   "outputs": [
    {
     "data": {
      "text/html": [
       "        <script type=\"text/javascript\">\n",
       "        window.PlotlyConfig = {MathJaxConfig: 'local'};\n",
       "        if (window.MathJax && window.MathJax.Hub && window.MathJax.Hub.Config) {window.MathJax.Hub.Config({SVG: {font: \"STIX-Web\"}});}\n",
       "        if (typeof require !== 'undefined') {\n",
       "        require.undef(\"plotly\");\n",
       "        requirejs.config({\n",
       "            paths: {\n",
       "                'plotly': ['https://cdn.plot.ly/plotly-2.30.0.min']\n",
       "            }\n",
       "        });\n",
       "        require(['plotly'], function(Plotly) {\n",
       "            window._Plotly = Plotly;\n",
       "        });\n",
       "        }\n",
       "        </script>\n",
       "        "
      ]
     },
     "metadata": {},
     "output_type": "display_data"
    }
   ],
   "source": [
    "cf.go_offline()"
   ]
  },
  {
   "cell_type": "code",
   "execution_count": 88,
   "id": "e26525bb-235f-48cb-9991-06dcc14f844e",
   "metadata": {},
   "outputs": [
    {
     "data": {
      "application/vnd.plotly.v1+json": {
       "config": {
        "linkText": "Export to plot.ly",
        "plotlyServerURL": "https://plot.ly",
        "showLink": true
       },
       "data": [
        {
         "line": {
          "color": "rgba(255, 153, 51, 1.0)",
          "dash": "solid",
          "shape": "linear",
          "width": 1.3
         },
         "marker": {
          "size": 12,
          "symbol": "circle"
         },
         "mode": "markers",
         "name": "review_scores_rating",
         "text": "",
         "type": "scatter",
         "x": [
          6342,
          6342,
          6342,
          6342,
          6342,
          6342,
          6342,
          6342,
          6342,
          6342,
          6342,
          6342,
          6342,
          6342,
          6471,
          6485,
          6485,
          6485,
          6485,
          6485,
          6485,
          6485,
          6485,
          6485,
          6485,
          6485,
          5847,
          5847,
          5847,
          5847,
          5847,
          5847,
          5847,
          5847,
          5847,
          5847,
          5847,
          6321,
          6321,
          6321,
          6321,
          6321,
          6321,
          6321,
          6321,
          6321,
          6321,
          null,
          null,
          7054,
          7054,
          7054,
          7054,
          7054,
          7054,
          7054,
          7054,
          7054,
          7054,
          7054,
          null,
          7054,
          7054,
          6018,
          6018,
          6018,
          6018,
          6018,
          6018,
          6018,
          6018,
          6018,
          6018,
          6018,
          6018,
          6018,
          6018,
          6018,
          6018,
          6018,
          6018,
          null,
          6283,
          6283,
          6283,
          6283,
          6283,
          6283,
          6312,
          6312,
          6312,
          6312,
          6312,
          6312,
          6312,
          6312,
          6312,
          5998,
          5998,
          5998,
          5998,
          5998,
          5998,
          5998,
          5998,
          5998,
          5998,
          5998,
          5998,
          5998,
          5998,
          5998,
          5998,
          5998,
          5998,
          5998,
          5998,
          5998,
          5998,
          5998,
          5998,
          5998,
          5998,
          5998,
          5998,
          5998,
          5998,
          5998,
          5998,
          5998,
          5998,
          5998,
          null,
          7103,
          7103,
          7103,
          7103,
          7103,
          7103,
          7103,
          7103,
          6004,
          6004,
          6004,
          6004,
          6004,
          6004,
          6004,
          6004,
          6004,
          6004,
          6004,
          6004,
          6004,
          6004,
          6004,
          6004,
          6004,
          6004,
          6004,
          6004,
          6004,
          6004,
          6004,
          6004,
          6004,
          6004,
          6004,
          6004,
          6004,
          6004,
          6004,
          6004,
          6004,
          6004,
          5746,
          5746,
          5746,
          5746,
          5746,
          5746,
          5746,
          5746,
          5746,
          5746,
          5746,
          5746,
          5746,
          5746,
          5746,
          5746,
          5746,
          5746,
          5746,
          5746,
          5746,
          5746,
          5746,
          5746,
          5746,
          5746,
          5746,
          5746,
          5746,
          5746,
          5746,
          5746,
          5746,
          5746,
          5746,
          5746,
          5746,
          5746,
          5746,
          5746,
          5746,
          5746,
          5746,
          5746,
          5746,
          5746,
          5746,
          5746,
          5746,
          5746,
          5746,
          5746,
          5746,
          5746,
          5746,
          5746,
          5746,
          5746,
          5746,
          5746,
          5746,
          5746,
          5746,
          5746,
          5746,
          5746,
          5746,
          5746,
          5746,
          5746,
          5746,
          5746,
          5746,
          null,
          6173,
          1517,
          1517,
          1517,
          1517,
          1517,
          1517,
          1517,
          1517,
          1517,
          1517,
          1517,
          1517,
          1517,
          1517,
          1517,
          1517,
          1517,
          1517,
          1517,
          1517,
          1517,
          1517,
          1517,
          1517,
          1517,
          1517,
          1517,
          1517,
          1517,
          1517,
          1517,
          1517,
          1517,
          1517,
          1517,
          1517,
          1517,
          1517,
          6242,
          6242,
          6242,
          6242,
          6242,
          6242,
          6242,
          6242,
          6083,
          6356,
          6356,
          6356,
          6356,
          6356,
          6356,
          6356,
          6356,
          6356,
          6356,
          6356,
          6356,
          6356,
          6356,
          6356,
          6356,
          2041,
          2041,
          5737,
          5737,
          5737,
          5737,
          5737,
          5737,
          5737,
          5737,
          5737,
          5737,
          5737,
          5737,
          5737,
          5737,
          5737,
          5737,
          6272,
          6272,
          6272,
          6272,
          6272,
          6272,
          6272,
          6272,
          6272,
          6272,
          6272,
          6272,
          6272,
          6272,
          6272,
          6272,
          6272,
          6272,
          6272,
          6272,
          6272,
          6272,
          null,
          5938,
          5938,
          5938,
          5938,
          5938,
          5938,
          5938,
          5938,
          5938,
          5938,
          5938,
          5938,
          5938,
          5938,
          5938,
          5938,
          5938,
          7075,
          7075,
          7075,
          7075,
          7075,
          7075,
          7075,
          7075,
          7075,
          7075,
          null,
          5333,
          5333,
          5333,
          5333,
          5333,
          5333,
          5333,
          5333,
          5333,
          5333,
          5333,
          5333,
          5333,
          5333,
          5333,
          5333,
          5333,
          5333,
          5333,
          5333,
          5333,
          5333,
          5333,
          5333,
          5333,
          5333,
          5333,
          5333,
          5333,
          5333,
          5333,
          5333,
          5333,
          5333,
          5333,
          5333,
          5333,
          5333,
          5333,
          null,
          5333,
          null,
          5333,
          5333,
          6025,
          7086,
          7086,
          7086,
          7086,
          7086,
          7086,
          7086,
          7086,
          7086,
          7086,
          7086,
          6195,
          6195,
          6195,
          6195,
          6195,
          6195,
          6195,
          6195,
          6195,
          6195,
          6195,
          6195,
          6195,
          6195,
          6195,
          6195,
          6195,
          6195,
          6195,
          6195,
          5687,
          5687,
          5687,
          5687,
          5644,
          5644,
          5644,
          5644,
          5644,
          5644,
          5644,
          5644,
          5644,
          5644,
          5644,
          5644,
          5644,
          5644,
          5644,
          5644,
          5644,
          5644,
          5644,
          5644,
          5644,
          5644,
          5644,
          5644,
          5644,
          5644,
          5644,
          5644,
          5644,
          5644,
          5644,
          5644,
          5644,
          null,
          5644,
          5644,
          5644,
          5644,
          5644,
          6487,
          6487,
          6487,
          6487,
          6487,
          6487,
          6487,
          6487,
          6487,
          6487,
          6487,
          6487,
          6487,
          6487,
          6372,
          6372,
          6372,
          6372,
          6372,
          6372,
          6372,
          6372,
          6372,
          6372,
          6372,
          6372,
          6372,
          6372,
          6372,
          6372,
          6372,
          6372,
          6372,
          6372,
          6372,
          6372,
          7101,
          7101,
          7101,
          7101,
          7101,
          7101,
          7101,
          7101,
          7101,
          7101,
          7101,
          7101,
          7101,
          7101,
          7101,
          null,
          7101,
          7101,
          7101,
          null,
          7101,
          null,
          7101,
          null,
          6327,
          6327,
          6327,
          6327,
          6327,
          6327,
          6327,
          7057,
          7057,
          7057,
          7057,
          7057,
          7057,
          7057,
          7057,
          7057,
          7057,
          7057,
          7057,
          7057,
          7057,
          7057,
          7057,
          7057,
          7057,
          7057,
          7057,
          7057,
          7057,
          7057,
          7057,
          7057,
          7057,
          7057,
          7057,
          7057,
          7057,
          7057,
          7057,
          7057,
          7057,
          7057,
          7057,
          7057,
          7057,
          5995,
          5995,
          5995,
          5995,
          5995,
          5995,
          5995,
          5995,
          5995,
          5995,
          5995,
          5995,
          5995,
          5995,
          5995,
          5995,
          5995,
          5995,
          5995,
          5995,
          5995,
          5995,
          5995,
          5995,
          5995,
          5995,
          5995,
          5995,
          5995,
          5995,
          5995,
          5995,
          5995,
          5995,
          5995,
          5995,
          5995,
          5995,
          5995,
          5995,
          5995,
          5995,
          5995,
          5995,
          5995,
          5995,
          5995,
          5995,
          5995,
          5995,
          5995,
          5995,
          5995,
          5995,
          5995,
          5995,
          5995,
          5995,
          5995,
          5995,
          5995,
          5995,
          5995,
          5995,
          5995,
          5995,
          5995,
          5995,
          5995,
          5995,
          5995,
          5995,
          5995,
          5995,
          5995,
          5995,
          5995,
          null,
          5995,
          null,
          5995,
          5995,
          1179,
          1179,
          1179,
          1179,
          1179,
          1179,
          1179,
          1179,
          1179,
          1179,
          1179,
          1179,
          1179,
          null,
          null,
          null,
          5984,
          5984,
          5984,
          5984,
          5984,
          8007,
          8007,
          8007,
          8007,
          8007,
          8007,
          8007,
          8007,
          8007,
          8007,
          8007,
          8007,
          8007,
          8007,
          8007,
          8007,
          8007,
          8007,
          8007,
          8007,
          8007,
          8007,
          8007,
          8007,
          8007,
          8007,
          8007,
          8007,
          8007,
          8007,
          8007,
          6474,
          6474,
          6474,
          6474,
          6474,
          6474,
          6474,
          6474,
          6474,
          1138,
          1138,
          1138,
          1138,
          1138,
          1138,
          6482,
          6482,
          6482,
          6253,
          6253,
          3155,
          3155,
          3155,
          3155,
          3155,
          3155,
          3155,
          3155,
          3155,
          3155,
          3155,
          3155,
          null,
          null,
          null,
          4171,
          4171,
          4171,
          4171,
          4171,
          4171,
          4171,
          4171,
          4171,
          4171,
          4171,
          4171,
          4171,
          4171,
          4171,
          4171,
          4171,
          4171,
          4171,
          4171,
          4171,
          4171,
          4171,
          4171,
          4171,
          4171,
          4171,
          4171,
          4171,
          4171,
          6742,
          6742,
          6742,
          6742,
          6742,
          6502,
          6502,
          6502,
          6502,
          6502,
          6502,
          6502,
          6502,
          6502,
          6502,
          6502,
          6502,
          6502,
          null,
          null,
          1065,
          1065,
          1065,
          1065,
          1065,
          1065,
          1065,
          1065,
          1065,
          1065,
          1065,
          1065,
          1065,
          1065,
          1065,
          1065,
          1065,
          1065,
          1065,
          1065,
          1065,
          1065,
          1065,
          1065,
          1065,
          1065,
          1065,
          1065,
          1065,
          1065,
          1065,
          1065,
          1065,
          1065,
          1065,
          null,
          1065,
          1065,
          1065,
          null,
          6236,
          6236,
          6236,
          6236,
          6236,
          6236,
          6236,
          6236,
          6236,
          6236,
          6236,
          6236,
          6236,
          6236,
          6236,
          6236,
          6236,
          6236,
          6236,
          6236,
          6236,
          6236,
          6236,
          6236,
          6236,
          6236,
          6236,
          6236,
          6236,
          6236,
          6236,
          6236,
          6236,
          6236,
          6236,
          6236,
          6236,
          6236,
          6236,
          6236,
          6236,
          6236,
          6236,
          6236,
          6236,
          6236,
          6236,
          6236,
          6236,
          6236,
          6236,
          6236,
          6236,
          6236,
          6236,
          6236,
          6236,
          6236,
          6236,
          6236,
          6236,
          6236,
          6236,
          6236,
          6236,
          6236,
          6236,
          6236,
          6236,
          6236,
          null,
          6236,
          5980,
          5980,
          5980,
          5980,
          5980,
          5980,
          5980,
          5980,
          6121,
          6121,
          6121,
          7065,
          7065,
          7065,
          7065,
          7065,
          2082,
          2082,
          2082,
          2082,
          2082,
          2082,
          2082,
          2082,
          2082,
          2082,
          2082,
          2082,
          2082,
          2082,
          2082,
          2082,
          2082,
          2082,
          2082,
          2082,
          2082,
          2082,
          2082,
          2082,
          2082,
          2082,
          2082,
          2082,
          2082,
          null,
          null,
          null,
          null,
          null,
          5673,
          5673,
          5673,
          5673,
          5673,
          5673,
          5673,
          5673,
          5673,
          5673,
          5673,
          5673,
          5673
         ],
         "y": [
          4.89,
          4.96,
          4.94,
          4.9,
          4.86,
          4.77,
          4.95,
          4.79,
          3.67,
          4.94,
          4.93,
          4.91,
          4.83,
          4.82,
          5,
          4.89,
          4.86,
          4.73,
          4.91,
          5,
          4.86,
          4.78,
          4.83,
          4.85,
          4.75,
          4.81,
          4.69,
          4.73,
          4.85,
          4.8,
          4.84,
          4.98,
          4.65,
          4.79,
          4.93,
          4.84,
          4.8,
          4.69,
          4.59,
          4.86,
          4.8,
          4.88,
          4.88,
          4.88,
          4.5,
          4.83,
          4.47,
          4.66,
          4.82,
          4.88,
          4.82,
          4.74,
          4.76,
          4.95,
          4.83,
          4.86,
          4.86,
          4.81,
          4.83,
          4.83,
          4.83,
          4.97,
          4.93,
          5,
          4.94,
          4.76,
          4.83,
          4.95,
          4.79,
          4.88,
          4.85,
          4.93,
          4.89,
          4.88,
          4.9,
          4.67,
          4.95,
          4.98,
          4.72,
          1,
          4.94,
          4.38,
          4.87,
          4.91,
          4.85,
          4.92,
          4.92,
          4.76,
          4.96,
          4.89,
          4.93,
          4.83,
          4.93,
          4.91,
          4.78,
          4.87,
          4.43,
          5,
          4.72,
          4.98,
          4.92,
          4.74,
          4.95,
          5,
          4.76,
          4.7,
          4.94,
          4.8,
          4.76,
          4.7,
          4.77,
          4.84,
          4.56,
          4.87,
          4.77,
          4.86,
          4.85,
          4.92,
          4.86,
          4.1,
          4.82,
          4.93,
          4.76,
          4.37,
          4.86,
          4.98,
          4.81,
          4.95,
          5,
          5,
          4.75,
          4.98,
          4.5,
          4.66,
          4.38,
          4.12,
          4.85,
          4.68,
          4.92,
          5,
          4.77,
          4.68,
          4.77,
          4.89,
          4.82,
          4.92,
          5,
          4.9,
          4.86,
          4.95,
          4.94,
          4.88,
          4.89,
          4.85,
          4.56,
          4.88,
          4.95,
          4.68,
          4.8,
          5,
          4.94,
          4.93,
          4.91,
          4.79,
          5,
          4.73,
          4.82,
          5,
          4.91,
          4.95,
          4.96,
          4.85,
          4.88,
          4.7,
          4.97,
          4.53,
          4.88,
          4.76,
          4.79,
          4.64,
          4.87,
          4.9,
          4.6,
          4.93,
          4.96,
          4.98,
          4.95,
          4.91,
          4.9,
          4.96,
          4.88,
          4.8,
          4.81,
          4.95,
          5,
          5,
          4.94,
          4.62,
          4.84,
          4.93,
          4.84,
          4.63,
          4.77,
          4.88,
          4.9,
          4.88,
          4.82,
          4.78,
          4.97,
          4.77,
          5,
          4.89,
          4.73,
          4.99,
          4.94,
          5,
          4.83,
          4.73,
          4.61,
          4.62,
          4.32,
          4.94,
          4.74,
          4.87,
          4.75,
          4.68,
          4.91,
          4.86,
          4.89,
          4.95,
          4.96,
          4.96,
          4.88,
          4.85,
          5,
          4.96,
          4.68,
          4.57,
          4.97,
          4.93,
          4.9,
          4.84,
          4.84,
          4.83,
          4.7,
          4.94,
          5,
          4.89,
          4.95,
          4.74,
          4.89,
          4.98,
          4.87,
          4.84,
          4.77,
          4.43,
          4.92,
          4.33,
          4.55,
          5,
          4.96,
          4.97,
          5,
          4.88,
          4.35,
          4.55,
          4.66,
          4.63,
          4.89,
          4.93,
          4.26,
          4.39,
          4.96,
          5,
          4.75,
          4.69,
          4.95,
          5,
          4.87,
          4.93,
          4.51,
          4.79,
          4.97,
          4.9,
          5,
          5,
          4.96,
          4.96,
          4,
          4.93,
          4.47,
          4.75,
          4.9,
          4.76,
          4.65,
          4.67,
          4.64,
          4.93,
          4.88,
          4.68,
          4.95,
          4.45,
          4.85,
          4.97,
          4.74,
          4.65,
          4.69,
          4.69,
          4.78,
          4.88,
          4.88,
          4.82,
          4.93,
          4.93,
          4.48,
          4.85,
          4.93,
          4.88,
          5,
          4.88,
          4.95,
          4.86,
          4.96,
          4.91,
          4.85,
          4.9,
          4.87,
          5,
          5,
          4.99,
          4.97,
          4.96,
          4.83,
          4.57,
          4.81,
          4.93,
          4.85,
          5,
          4.63,
          4.94,
          4.87,
          4.98,
          4.63,
          4.61,
          4.82,
          4.74,
          4.67,
          4.77,
          4.76,
          4.88,
          4.84,
          4.95,
          4.82,
          4.97,
          4.76,
          5,
          4.9,
          4.85,
          4.46,
          5,
          4.62,
          4.94,
          4.85,
          4.94,
          4.98,
          4.39,
          4.92,
          4.89,
          4.83,
          4.92,
          5,
          4.93,
          4.94,
          4.75,
          4.97,
          4.84,
          4.8,
          4.95,
          5,
          4.97,
          5,
          4.85,
          4.92,
          4.55,
          4.55,
          4.86,
          4.92,
          4.89,
          4.69,
          4.95,
          4.61,
          4.93,
          4.93,
          4.96,
          4.77,
          4.92,
          4.91,
          4.44,
          4.82,
          5,
          4.88,
          4.96,
          4.97,
          4.6,
          4.97,
          4.83,
          4.97,
          4.87,
          4.98,
          4.95,
          4.91,
          4.89,
          4.53,
          4.95,
          4.81,
          4.85,
          4.52,
          4.63,
          4.76,
          4.98,
          4.8,
          4.86,
          4.86,
          4.87,
          4.98,
          4.9,
          4.83,
          4.42,
          4.99,
          4.84,
          4.96,
          4.69,
          4.44,
          4.88,
          4.59,
          4.88,
          4.67,
          4.97,
          4.84,
          4.87,
          4.9,
          4.98,
          4.86,
          4.57,
          4.64,
          4.9,
          4.88,
          4.67,
          4.64,
          4.08,
          4.12,
          4.85,
          4.8,
          4.83,
          4.74,
          5,
          4.77,
          4.64,
          4.81,
          4.73,
          4.74,
          4.68,
          4.07,
          4.93,
          4.53,
          4.87,
          4.9,
          5,
          4.91,
          4.94,
          5,
          4.85,
          4.94,
          4.88,
          4.19,
          4.85,
          4.92,
          4.97,
          4.71,
          4.64,
          4.67,
          4.69,
          4.94,
          5,
          4.84,
          4.34,
          5,
          4.68,
          4.83,
          4.99,
          4.64,
          4.87,
          4.93,
          4.88,
          4,
          4.62,
          4.65,
          4.88,
          4.67,
          4.86,
          4.86,
          4.98,
          4.87,
          4.84,
          4.97,
          4.84,
          4.65,
          4.79,
          4.96,
          4.98,
          5,
          4.73,
          4.73,
          4.99,
          4.67,
          5,
          5,
          4.86,
          4.77,
          4.98,
          4.45,
          4.96,
          4.92,
          4.54,
          4.94,
          4.79,
          4.82,
          4.61,
          4.83,
          5,
          4.81,
          4.79,
          4.8,
          4.83,
          4.88,
          4.98,
          4.95,
          4.94,
          5,
          4.82,
          4.75,
          5,
          4.93,
          4.91,
          4.94,
          4.72,
          4.89,
          4.74,
          4.93,
          4.76,
          4.94,
          4.85,
          4.93,
          4.82,
          4.83,
          4.86,
          4.86,
          4.95,
          5,
          5,
          4.59,
          4.97,
          4.99,
          4.99,
          4.98,
          5,
          4.88,
          4.95,
          4.95,
          4.96,
          4.91,
          4.76,
          4.7,
          4.98,
          4.83,
          4.67,
          4.9,
          4.95,
          5,
          4.82,
          4.84,
          4.97,
          4.92,
          4.47,
          4.72,
          4.67,
          4.94,
          4.63,
          4.55,
          4.93,
          4.33,
          4.96,
          4.99,
          4.83,
          4.82,
          4.94,
          4.91,
          4.94,
          4.97,
          4.98,
          4.82,
          4.84,
          4.93,
          4.89,
          4.92,
          4.65,
          4.73,
          4.85,
          4.81,
          4.67,
          4.99,
          4.67,
          4.82,
          4.94,
          4.71,
          4.95,
          4.92,
          4.89,
          4.98,
          4.89,
          5,
          4.86,
          4.84,
          4.97,
          4.78,
          4.94,
          4.58,
          4.08,
          4.88,
          4.67,
          5,
          5,
          5,
          4.62,
          4,
          4.86,
          5,
          4.91,
          4.86,
          4.81,
          4.81,
          4.44,
          4.9,
          4.87,
          4.88,
          0,
          5,
          4.69,
          4.75,
          4.85,
          4.82,
          4.66,
          4.76,
          4.9,
          4.95,
          4.69,
          4.7,
          4.89,
          4.71,
          4.38,
          5,
          4.74,
          4.88,
          4.89,
          5,
          4.91,
          4.93,
          4.91,
          4.44,
          4.87,
          4.67,
          4.62,
          4.72,
          4.94,
          5,
          4.77,
          4.78,
          5,
          5,
          4.59,
          5,
          4.84,
          4.59,
          4.89,
          4.98,
          4.73,
          5,
          5,
          4.97,
          4.91,
          4.89,
          4.64,
          4.91,
          4.97,
          4.91,
          4.86,
          4.83,
          4.78,
          4.86,
          4.73,
          4.49,
          4.72,
          4.81,
          4.92,
          4.79,
          4.75,
          4.82,
          4.38,
          4.65,
          4.94,
          4.41,
          4.2,
          4.63,
          4.82,
          4,
          4.87,
          4.92,
          4.76,
          4.99,
          4.84,
          4.73,
          4.79,
          4.8,
          5,
          4.65,
          4.99,
          4.93,
          4.58,
          4.95,
          4.78,
          5,
          4.86,
          4.67,
          4.96,
          4.97,
          4.91,
          4.5,
          4.86,
          4.84,
          4.55,
          4.83,
          4.88,
          4.91,
          4.56,
          4.89,
          4.98,
          4.98,
          4.6,
          4.71,
          4.91,
          5,
          4.61,
          4.63,
          4.71,
          4.83,
          4.67,
          4.89,
          4.73,
          4.87,
          4.95,
          4.85,
          4.86,
          4.68,
          4.95,
          4.72,
          4.73,
          4.86,
          4.88,
          4.96,
          3,
          4.94,
          5,
          4.97,
          4.95,
          4.84,
          4.77,
          4.57,
          4.81,
          4.8,
          4.52,
          4.78,
          4.89,
          5,
          4.84,
          5,
          4.94,
          5,
          4.76,
          4.69,
          4.76,
          4.88,
          4.49,
          4.7,
          4.97,
          4.79,
          4.91,
          4.83,
          4.79,
          4.58,
          4.93,
          4.83,
          4.99,
          4.77,
          5,
          4.88,
          5,
          4.89,
          4.86,
          4.94,
          4.98,
          4.87,
          4.74,
          4.85,
          4.85,
          4.97,
          4.97,
          4.92,
          4.99,
          4.77,
          4.87,
          4.83,
          4.71,
          4.93,
          3,
          4.58,
          4.68,
          4.42,
          4.6,
          4.68,
          4.68,
          4.89,
          4.57,
          4.77,
          5,
          4.72,
          4.8,
          4.86,
          4.83,
          4.94,
          4.94,
          5,
          4.89,
          4.8,
          4.96,
          4.63,
          4.84,
          4.84,
          5,
          4.67,
          5,
          4.86,
          4.92,
          4.82,
          4.63,
          4.89,
          4.69,
          4.88,
          4.63,
          4.91,
          5,
          4.12,
          5,
          4.76,
          4.52,
          4.84,
          4.87,
          4.92,
          5,
          4.95,
          4.96,
          4.97,
          4.75,
          4.93,
          4.95,
          4.96,
          4.66,
          4.97,
          5,
          4.74,
          4.96,
          4.97,
          4.63,
          4.85,
          4.9,
          4.9,
          4.66,
          5,
          4.74,
          4.92,
          4.73,
          5,
          4.98,
          4.71,
          4.75,
          4.86,
          4.78,
          4.65,
          4.75,
          4.95,
          4.96,
          4.75,
          4.97,
          4.98,
          4.73,
          4.89,
          4.76,
          4.65,
          4.9,
          4.93,
          4.96,
          4.92,
          4.96,
          4.9,
          4.69,
          4.91,
          4.75,
          4.71,
          4.83,
          4.84,
          4.91,
          4.86,
          4.97,
          4.97,
          4.96,
          4.95,
          4.62,
          4.75,
          4.79,
          4.69,
          4.93,
          4.92,
          4.53,
          4.97,
          4.8,
          4.54,
          4.91,
          4.89,
          5,
          5,
          4.85,
          4.96,
          4.56,
          4.98,
          4.51,
          4.92,
          4.19,
          4.98,
          4.92,
          4.97,
          4.38,
          4.84,
          4.58,
          4.74,
          4.96,
          4.6,
          4,
          5,
          4.08,
          4.5,
          4.5,
          4,
          4.8,
          4.91,
          4.86,
          4.78,
          5,
          4.88,
          4.96,
          4.79,
          4.9,
          4.79,
          4.8,
          4.44,
          4.91,
          4.89,
          4.9,
          4.97,
          4.82,
          4.93,
          4.9,
          4.92,
          4.88,
          4.82,
          4.87,
          4.82,
          4.83,
          5,
          4.74,
          4.95,
          4.97,
          4.86,
          4.71,
          4.6,
          4.6,
          4.5,
          4.79,
          5,
          4.8,
          4.74,
          4.93
         ]
        }
       ],
       "layout": {
        "autosize": true,
        "legend": {
         "bgcolor": "#F5F6F9",
         "font": {
          "color": "#4D5663"
         }
        },
        "paper_bgcolor": "#F5F6F9",
        "plot_bgcolor": "#F5F6F9",
        "template": {
         "data": {
          "bar": [
           {
            "error_x": {
             "color": "#2a3f5f"
            },
            "error_y": {
             "color": "#2a3f5f"
            },
            "marker": {
             "line": {
              "color": "#E5ECF6",
              "width": 0.5
             },
             "pattern": {
              "fillmode": "overlay",
              "size": 10,
              "solidity": 0.2
             }
            },
            "type": "bar"
           }
          ],
          "barpolar": [
           {
            "marker": {
             "line": {
              "color": "#E5ECF6",
              "width": 0.5
             },
             "pattern": {
              "fillmode": "overlay",
              "size": 10,
              "solidity": 0.2
             }
            },
            "type": "barpolar"
           }
          ],
          "carpet": [
           {
            "aaxis": {
             "endlinecolor": "#2a3f5f",
             "gridcolor": "white",
             "linecolor": "white",
             "minorgridcolor": "white",
             "startlinecolor": "#2a3f5f"
            },
            "baxis": {
             "endlinecolor": "#2a3f5f",
             "gridcolor": "white",
             "linecolor": "white",
             "minorgridcolor": "white",
             "startlinecolor": "#2a3f5f"
            },
            "type": "carpet"
           }
          ],
          "choropleth": [
           {
            "colorbar": {
             "outlinewidth": 0,
             "ticks": ""
            },
            "type": "choropleth"
           }
          ],
          "contour": [
           {
            "colorbar": {
             "outlinewidth": 0,
             "ticks": ""
            },
            "colorscale": [
             [
              0,
              "#0d0887"
             ],
             [
              0.1111111111111111,
              "#46039f"
             ],
             [
              0.2222222222222222,
              "#7201a8"
             ],
             [
              0.3333333333333333,
              "#9c179e"
             ],
             [
              0.4444444444444444,
              "#bd3786"
             ],
             [
              0.5555555555555556,
              "#d8576b"
             ],
             [
              0.6666666666666666,
              "#ed7953"
             ],
             [
              0.7777777777777778,
              "#fb9f3a"
             ],
             [
              0.8888888888888888,
              "#fdca26"
             ],
             [
              1,
              "#f0f921"
             ]
            ],
            "type": "contour"
           }
          ],
          "contourcarpet": [
           {
            "colorbar": {
             "outlinewidth": 0,
             "ticks": ""
            },
            "type": "contourcarpet"
           }
          ],
          "heatmap": [
           {
            "colorbar": {
             "outlinewidth": 0,
             "ticks": ""
            },
            "colorscale": [
             [
              0,
              "#0d0887"
             ],
             [
              0.1111111111111111,
              "#46039f"
             ],
             [
              0.2222222222222222,
              "#7201a8"
             ],
             [
              0.3333333333333333,
              "#9c179e"
             ],
             [
              0.4444444444444444,
              "#bd3786"
             ],
             [
              0.5555555555555556,
              "#d8576b"
             ],
             [
              0.6666666666666666,
              "#ed7953"
             ],
             [
              0.7777777777777778,
              "#fb9f3a"
             ],
             [
              0.8888888888888888,
              "#fdca26"
             ],
             [
              1,
              "#f0f921"
             ]
            ],
            "type": "heatmap"
           }
          ],
          "heatmapgl": [
           {
            "colorbar": {
             "outlinewidth": 0,
             "ticks": ""
            },
            "colorscale": [
             [
              0,
              "#0d0887"
             ],
             [
              0.1111111111111111,
              "#46039f"
             ],
             [
              0.2222222222222222,
              "#7201a8"
             ],
             [
              0.3333333333333333,
              "#9c179e"
             ],
             [
              0.4444444444444444,
              "#bd3786"
             ],
             [
              0.5555555555555556,
              "#d8576b"
             ],
             [
              0.6666666666666666,
              "#ed7953"
             ],
             [
              0.7777777777777778,
              "#fb9f3a"
             ],
             [
              0.8888888888888888,
              "#fdca26"
             ],
             [
              1,
              "#f0f921"
             ]
            ],
            "type": "heatmapgl"
           }
          ],
          "histogram": [
           {
            "marker": {
             "pattern": {
              "fillmode": "overlay",
              "size": 10,
              "solidity": 0.2
             }
            },
            "type": "histogram"
           }
          ],
          "histogram2d": [
           {
            "colorbar": {
             "outlinewidth": 0,
             "ticks": ""
            },
            "colorscale": [
             [
              0,
              "#0d0887"
             ],
             [
              0.1111111111111111,
              "#46039f"
             ],
             [
              0.2222222222222222,
              "#7201a8"
             ],
             [
              0.3333333333333333,
              "#9c179e"
             ],
             [
              0.4444444444444444,
              "#bd3786"
             ],
             [
              0.5555555555555556,
              "#d8576b"
             ],
             [
              0.6666666666666666,
              "#ed7953"
             ],
             [
              0.7777777777777778,
              "#fb9f3a"
             ],
             [
              0.8888888888888888,
              "#fdca26"
             ],
             [
              1,
              "#f0f921"
             ]
            ],
            "type": "histogram2d"
           }
          ],
          "histogram2dcontour": [
           {
            "colorbar": {
             "outlinewidth": 0,
             "ticks": ""
            },
            "colorscale": [
             [
              0,
              "#0d0887"
             ],
             [
              0.1111111111111111,
              "#46039f"
             ],
             [
              0.2222222222222222,
              "#7201a8"
             ],
             [
              0.3333333333333333,
              "#9c179e"
             ],
             [
              0.4444444444444444,
              "#bd3786"
             ],
             [
              0.5555555555555556,
              "#d8576b"
             ],
             [
              0.6666666666666666,
              "#ed7953"
             ],
             [
              0.7777777777777778,
              "#fb9f3a"
             ],
             [
              0.8888888888888888,
              "#fdca26"
             ],
             [
              1,
              "#f0f921"
             ]
            ],
            "type": "histogram2dcontour"
           }
          ],
          "mesh3d": [
           {
            "colorbar": {
             "outlinewidth": 0,
             "ticks": ""
            },
            "type": "mesh3d"
           }
          ],
          "parcoords": [
           {
            "line": {
             "colorbar": {
              "outlinewidth": 0,
              "ticks": ""
             }
            },
            "type": "parcoords"
           }
          ],
          "pie": [
           {
            "automargin": true,
            "type": "pie"
           }
          ],
          "scatter": [
           {
            "fillpattern": {
             "fillmode": "overlay",
             "size": 10,
             "solidity": 0.2
            },
            "type": "scatter"
           }
          ],
          "scatter3d": [
           {
            "line": {
             "colorbar": {
              "outlinewidth": 0,
              "ticks": ""
             }
            },
            "marker": {
             "colorbar": {
              "outlinewidth": 0,
              "ticks": ""
             }
            },
            "type": "scatter3d"
           }
          ],
          "scattercarpet": [
           {
            "marker": {
             "colorbar": {
              "outlinewidth": 0,
              "ticks": ""
             }
            },
            "type": "scattercarpet"
           }
          ],
          "scattergeo": [
           {
            "marker": {
             "colorbar": {
              "outlinewidth": 0,
              "ticks": ""
             }
            },
            "type": "scattergeo"
           }
          ],
          "scattergl": [
           {
            "marker": {
             "colorbar": {
              "outlinewidth": 0,
              "ticks": ""
             }
            },
            "type": "scattergl"
           }
          ],
          "scattermapbox": [
           {
            "marker": {
             "colorbar": {
              "outlinewidth": 0,
              "ticks": ""
             }
            },
            "type": "scattermapbox"
           }
          ],
          "scatterpolar": [
           {
            "marker": {
             "colorbar": {
              "outlinewidth": 0,
              "ticks": ""
             }
            },
            "type": "scatterpolar"
           }
          ],
          "scatterpolargl": [
           {
            "marker": {
             "colorbar": {
              "outlinewidth": 0,
              "ticks": ""
             }
            },
            "type": "scatterpolargl"
           }
          ],
          "scatterternary": [
           {
            "marker": {
             "colorbar": {
              "outlinewidth": 0,
              "ticks": ""
             }
            },
            "type": "scatterternary"
           }
          ],
          "surface": [
           {
            "colorbar": {
             "outlinewidth": 0,
             "ticks": ""
            },
            "colorscale": [
             [
              0,
              "#0d0887"
             ],
             [
              0.1111111111111111,
              "#46039f"
             ],
             [
              0.2222222222222222,
              "#7201a8"
             ],
             [
              0.3333333333333333,
              "#9c179e"
             ],
             [
              0.4444444444444444,
              "#bd3786"
             ],
             [
              0.5555555555555556,
              "#d8576b"
             ],
             [
              0.6666666666666666,
              "#ed7953"
             ],
             [
              0.7777777777777778,
              "#fb9f3a"
             ],
             [
              0.8888888888888888,
              "#fdca26"
             ],
             [
              1,
              "#f0f921"
             ]
            ],
            "type": "surface"
           }
          ],
          "table": [
           {
            "cells": {
             "fill": {
              "color": "#EBF0F8"
             },
             "line": {
              "color": "white"
             }
            },
            "header": {
             "fill": {
              "color": "#C8D4E3"
             },
             "line": {
              "color": "white"
             }
            },
            "type": "table"
           }
          ]
         },
         "layout": {
          "annotationdefaults": {
           "arrowcolor": "#2a3f5f",
           "arrowhead": 0,
           "arrowwidth": 1
          },
          "autotypenumbers": "strict",
          "coloraxis": {
           "colorbar": {
            "outlinewidth": 0,
            "ticks": ""
           }
          },
          "colorscale": {
           "diverging": [
            [
             0,
             "#8e0152"
            ],
            [
             0.1,
             "#c51b7d"
            ],
            [
             0.2,
             "#de77ae"
            ],
            [
             0.3,
             "#f1b6da"
            ],
            [
             0.4,
             "#fde0ef"
            ],
            [
             0.5,
             "#f7f7f7"
            ],
            [
             0.6,
             "#e6f5d0"
            ],
            [
             0.7,
             "#b8e186"
            ],
            [
             0.8,
             "#7fbc41"
            ],
            [
             0.9,
             "#4d9221"
            ],
            [
             1,
             "#276419"
            ]
           ],
           "sequential": [
            [
             0,
             "#0d0887"
            ],
            [
             0.1111111111111111,
             "#46039f"
            ],
            [
             0.2222222222222222,
             "#7201a8"
            ],
            [
             0.3333333333333333,
             "#9c179e"
            ],
            [
             0.4444444444444444,
             "#bd3786"
            ],
            [
             0.5555555555555556,
             "#d8576b"
            ],
            [
             0.6666666666666666,
             "#ed7953"
            ],
            [
             0.7777777777777778,
             "#fb9f3a"
            ],
            [
             0.8888888888888888,
             "#fdca26"
            ],
            [
             1,
             "#f0f921"
            ]
           ],
           "sequentialminus": [
            [
             0,
             "#0d0887"
            ],
            [
             0.1111111111111111,
             "#46039f"
            ],
            [
             0.2222222222222222,
             "#7201a8"
            ],
            [
             0.3333333333333333,
             "#9c179e"
            ],
            [
             0.4444444444444444,
             "#bd3786"
            ],
            [
             0.5555555555555556,
             "#d8576b"
            ],
            [
             0.6666666666666666,
             "#ed7953"
            ],
            [
             0.7777777777777778,
             "#fb9f3a"
            ],
            [
             0.8888888888888888,
             "#fdca26"
            ],
            [
             1,
             "#f0f921"
            ]
           ]
          },
          "colorway": [
           "#636efa",
           "#EF553B",
           "#00cc96",
           "#ab63fa",
           "#FFA15A",
           "#19d3f3",
           "#FF6692",
           "#B6E880",
           "#FF97FF",
           "#FECB52"
          ],
          "font": {
           "color": "#2a3f5f"
          },
          "geo": {
           "bgcolor": "white",
           "lakecolor": "white",
           "landcolor": "#E5ECF6",
           "showlakes": true,
           "showland": true,
           "subunitcolor": "white"
          },
          "hoverlabel": {
           "align": "left"
          },
          "hovermode": "closest",
          "mapbox": {
           "style": "light"
          },
          "paper_bgcolor": "white",
          "plot_bgcolor": "#E5ECF6",
          "polar": {
           "angularaxis": {
            "gridcolor": "white",
            "linecolor": "white",
            "ticks": ""
           },
           "bgcolor": "#E5ECF6",
           "radialaxis": {
            "gridcolor": "white",
            "linecolor": "white",
            "ticks": ""
           }
          },
          "scene": {
           "xaxis": {
            "backgroundcolor": "#E5ECF6",
            "gridcolor": "white",
            "gridwidth": 2,
            "linecolor": "white",
            "showbackground": true,
            "ticks": "",
            "zerolinecolor": "white"
           },
           "yaxis": {
            "backgroundcolor": "#E5ECF6",
            "gridcolor": "white",
            "gridwidth": 2,
            "linecolor": "white",
            "showbackground": true,
            "ticks": "",
            "zerolinecolor": "white"
           },
           "zaxis": {
            "backgroundcolor": "#E5ECF6",
            "gridcolor": "white",
            "gridwidth": 2,
            "linecolor": "white",
            "showbackground": true,
            "ticks": "",
            "zerolinecolor": "white"
           }
          },
          "shapedefaults": {
           "line": {
            "color": "#2a3f5f"
           }
          },
          "ternary": {
           "aaxis": {
            "gridcolor": "white",
            "linecolor": "white",
            "ticks": ""
           },
           "baxis": {
            "gridcolor": "white",
            "linecolor": "white",
            "ticks": ""
           },
           "bgcolor": "#E5ECF6",
           "caxis": {
            "gridcolor": "white",
            "linecolor": "white",
            "ticks": ""
           }
          },
          "title": {
           "x": 0.05
          },
          "xaxis": {
           "automargin": true,
           "gridcolor": "white",
           "linecolor": "white",
           "ticks": "",
           "title": {
            "standoff": 15
           },
           "zerolinecolor": "white",
           "zerolinewidth": 2
          },
          "yaxis": {
           "automargin": true,
           "gridcolor": "white",
           "linecolor": "white",
           "ticks": "",
           "title": {
            "standoff": 15
           },
           "zerolinecolor": "white",
           "zerolinewidth": 2
          }
         }
        },
        "title": {
         "font": {
          "color": "#4D5663"
         }
        },
        "xaxis": {
         "autorange": true,
         "gridcolor": "#E1E5ED",
         "range": [
          609.9438646995322,
          8462.056135300469
         ],
         "showgrid": true,
         "showspikes": false,
         "tickfont": {
          "color": "#4D5663"
         },
         "title": {
          "font": {
           "color": "#4D5663"
          },
          "text": ""
         },
         "type": "linear",
         "zerolinecolor": "#E1E5ED"
        },
        "yaxis": {
         "autorange": true,
         "gridcolor": "#E1E5ED",
         "range": [
          -0.5612244897959184,
          5.561224489795919
         ],
         "showgrid": true,
         "showspikes": false,
         "tickfont": {
          "color": "#4D5663"
         },
         "title": {
          "font": {
           "color": "#4D5663"
          },
          "text": ""
         },
         "type": "linear",
         "zerolinecolor": "#E1E5ED"
        }
       }
      },
      "image/png": "[encoded data removed]",
      "text/html": [
       "<div>                            <div id=\"5460bf5d-4743-4da9-a357-61016a4717cf\" class=\"plotly-graph-div\" style=\"height:525px; width:100%;\"></div>            <script type=\"text/javascript\">                require([\"plotly\"], function(Plotly) {                    window.PLOTLYENV=window.PLOTLYENV || {};\n",
       "                    window.PLOTLYENV.BASE_URL='https://plot.ly';                                    if (document.getElementById(\"5460bf5d-4743-4da9-a357-61016a4717cf\")) {                    Plotly.newPlot(                        \"5460bf5d-4743-4da9-a357-61016a4717cf\",                        [{\"line\":{\"color\":\"rgba(255, 153, 51, 1.0)\",\"dash\":\"solid\",\"shape\":\"linear\",\"width\":1.3},\"marker\":{\"size\":12,\"symbol\":\"circle\"},\"mode\":\"markers\",\"name\":\"review_scores_rating\",\"text\":\"\",\"x\":[6342.0,6342.0,6342.0,6342.0,6342.0,6342.0,6342.0,6342.0,6342.0,6342.0,6342.0,6342.0,6342.0,6342.0,6471.0,6485.0,6485.0,6485.0,6485.0,6485.0,6485.0,6485.0,6485.0,6485.0,6485.0,6485.0,5847.0,5847.0,5847.0,5847.0,5847.0,5847.0,5847.0,5847.0,5847.0,5847.0,5847.0,6321.0,6321.0,6321.0,6321.0,6321.0,6321.0,6321.0,6321.0,6321.0,6321.0,null,null,7054.0,7054.0,7054.0,7054.0,7054.0,7054.0,7054.0,7054.0,7054.0,7054.0,7054.0,null,7054.0,7054.0,6018.0,6018.0,6018.0,6018.0,6018.0,6018.0,6018.0,6018.0,6018.0,6018.0,6018.0,6018.0,6018.0,6018.0,6018.0,6018.0,6018.0,6018.0,null,6283.0,6283.0,6283.0,6283.0,6283.0,6283.0,6312.0,6312.0,6312.0,6312.0,6312.0,6312.0,6312.0,6312.0,6312.0,5998.0,5998.0,5998.0,5998.0,5998.0,5998.0,5998.0,5998.0,5998.0,5998.0,5998.0,5998.0,5998.0,5998.0,5998.0,5998.0,5998.0,5998.0,5998.0,5998.0,5998.0,5998.0,5998.0,5998.0,5998.0,5998.0,5998.0,5998.0,5998.0,5998.0,5998.0,5998.0,5998.0,5998.0,5998.0,null,7103.0,7103.0,7103.0,7103.0,7103.0,7103.0,7103.0,7103.0,6004.0,6004.0,6004.0,6004.0,6004.0,6004.0,6004.0,6004.0,6004.0,6004.0,6004.0,6004.0,6004.0,6004.0,6004.0,6004.0,6004.0,6004.0,6004.0,6004.0,6004.0,6004.0,6004.0,6004.0,6004.0,6004.0,6004.0,6004.0,6004.0,6004.0,6004.0,6004.0,6004.0,6004.0,5746.0,5746.0,5746.0,5746.0,5746.0,5746.0,5746.0,5746.0,5746.0,5746.0,5746.0,5746.0,5746.0,5746.0,5746.0,5746.0,5746.0,5746.0,5746.0,5746.0,5746.0,5746.0,5746.0,5746.0,5746.0,5746.0,5746.0,5746.0,5746.0,5746.0,5746.0,5746.0,5746.0,5746.0,5746.0,5746.0,5746.0,5746.0,5746.0,5746.0,5746.0,5746.0,5746.0,5746.0,5746.0,5746.0,5746.0,5746.0,5746.0,5746.0,5746.0,5746.0,5746.0,5746.0,5746.0,5746.0,5746.0,5746.0,5746.0,5746.0,5746.0,5746.0,5746.0,5746.0,5746.0,5746.0,5746.0,5746.0,5746.0,5746.0,5746.0,5746.0,5746.0,null,6173.0,1517.0,1517.0,1517.0,1517.0,1517.0,1517.0,1517.0,1517.0,1517.0,1517.0,1517.0,1517.0,1517.0,1517.0,1517.0,1517.0,1517.0,1517.0,1517.0,1517.0,1517.0,1517.0,1517.0,1517.0,1517.0,1517.0,1517.0,1517.0,1517.0,1517.0,1517.0,1517.0,1517.0,1517.0,1517.0,1517.0,1517.0,1517.0,6242.0,6242.0,6242.0,6242.0,6242.0,6242.0,6242.0,6242.0,6083.0,6356.0,6356.0,6356.0,6356.0,6356.0,6356.0,6356.0,6356.0,6356.0,6356.0,6356.0,6356.0,6356.0,6356.0,6356.0,6356.0,2041.0,2041.0,5737.0,5737.0,5737.0,5737.0,5737.0,5737.0,5737.0,5737.0,5737.0,5737.0,5737.0,5737.0,5737.0,5737.0,5737.0,5737.0,6272.0,6272.0,6272.0,6272.0,6272.0,6272.0,6272.0,6272.0,6272.0,6272.0,6272.0,6272.0,6272.0,6272.0,6272.0,6272.0,6272.0,6272.0,6272.0,6272.0,6272.0,6272.0,null,5938.0,5938.0,5938.0,5938.0,5938.0,5938.0,5938.0,5938.0,5938.0,5938.0,5938.0,5938.0,5938.0,5938.0,5938.0,5938.0,5938.0,7075.0,7075.0,7075.0,7075.0,7075.0,7075.0,7075.0,7075.0,7075.0,7075.0,null,5333.0,5333.0,5333.0,5333.0,5333.0,5333.0,5333.0,5333.0,5333.0,5333.0,5333.0,5333.0,5333.0,5333.0,5333.0,5333.0,5333.0,5333.0,5333.0,5333.0,5333.0,5333.0,5333.0,5333.0,5333.0,5333.0,5333.0,5333.0,5333.0,5333.0,5333.0,5333.0,5333.0,5333.0,5333.0,5333.0,5333.0,5333.0,5333.0,null,5333.0,null,5333.0,5333.0,6025.0,7086.0,7086.0,7086.0,7086.0,7086.0,7086.0,7086.0,7086.0,7086.0,7086.0,7086.0,6195.0,6195.0,6195.0,6195.0,6195.0,6195.0,6195.0,6195.0,6195.0,6195.0,6195.0,6195.0,6195.0,6195.0,6195.0,6195.0,6195.0,6195.0,6195.0,6195.0,5687.0,5687.0,5687.0,5687.0,5644.0,5644.0,5644.0,5644.0,5644.0,5644.0,5644.0,5644.0,5644.0,5644.0,5644.0,5644.0,5644.0,5644.0,5644.0,5644.0,5644.0,5644.0,5644.0,5644.0,5644.0,5644.0,5644.0,5644.0,5644.0,5644.0,5644.0,5644.0,5644.0,5644.0,5644.0,5644.0,5644.0,null,5644.0,5644.0,5644.0,5644.0,5644.0,6487.0,6487.0,6487.0,6487.0,6487.0,6487.0,6487.0,6487.0,6487.0,6487.0,6487.0,6487.0,6487.0,6487.0,6372.0,6372.0,6372.0,6372.0,6372.0,6372.0,6372.0,6372.0,6372.0,6372.0,6372.0,6372.0,6372.0,6372.0,6372.0,6372.0,6372.0,6372.0,6372.0,6372.0,6372.0,6372.0,7101.0,7101.0,7101.0,7101.0,7101.0,7101.0,7101.0,7101.0,7101.0,7101.0,7101.0,7101.0,7101.0,7101.0,7101.0,null,7101.0,7101.0,7101.0,null,7101.0,null,7101.0,null,6327.0,6327.0,6327.0,6327.0,6327.0,6327.0,6327.0,7057.0,7057.0,7057.0,7057.0,7057.0,7057.0,7057.0,7057.0,7057.0,7057.0,7057.0,7057.0,7057.0,7057.0,7057.0,7057.0,7057.0,7057.0,7057.0,7057.0,7057.0,7057.0,7057.0,7057.0,7057.0,7057.0,7057.0,7057.0,7057.0,7057.0,7057.0,7057.0,7057.0,7057.0,7057.0,7057.0,7057.0,7057.0,5995.0,5995.0,5995.0,5995.0,5995.0,5995.0,5995.0,5995.0,5995.0,5995.0,5995.0,5995.0,5995.0,5995.0,5995.0,5995.0,5995.0,5995.0,5995.0,5995.0,5995.0,5995.0,5995.0,5995.0,5995.0,5995.0,5995.0,5995.0,5995.0,5995.0,5995.0,5995.0,5995.0,5995.0,5995.0,5995.0,5995.0,5995.0,5995.0,5995.0,5995.0,5995.0,5995.0,5995.0,5995.0,5995.0,5995.0,5995.0,5995.0,5995.0,5995.0,5995.0,5995.0,5995.0,5995.0,5995.0,5995.0,5995.0,5995.0,5995.0,5995.0,5995.0,5995.0,5995.0,5995.0,5995.0,5995.0,5995.0,5995.0,5995.0,5995.0,5995.0,5995.0,5995.0,5995.0,5995.0,5995.0,null,5995.0,null,5995.0,5995.0,1179.0,1179.0,1179.0,1179.0,1179.0,1179.0,1179.0,1179.0,1179.0,1179.0,1179.0,1179.0,1179.0,null,null,null,5984.0,5984.0,5984.0,5984.0,5984.0,8007.0,8007.0,8007.0,8007.0,8007.0,8007.0,8007.0,8007.0,8007.0,8007.0,8007.0,8007.0,8007.0,8007.0,8007.0,8007.0,8007.0,8007.0,8007.0,8007.0,8007.0,8007.0,8007.0,8007.0,8007.0,8007.0,8007.0,8007.0,8007.0,8007.0,8007.0,6474.0,6474.0,6474.0,6474.0,6474.0,6474.0,6474.0,6474.0,6474.0,1138.0,1138.0,1138.0,1138.0,1138.0,1138.0,6482.0,6482.0,6482.0,6253.0,6253.0,3155.0,3155.0,3155.0,3155.0,3155.0,3155.0,3155.0,3155.0,3155.0,3155.0,3155.0,3155.0,null,null,null,4171.0,4171.0,4171.0,4171.0,4171.0,4171.0,4171.0,4171.0,4171.0,4171.0,4171.0,4171.0,4171.0,4171.0,4171.0,4171.0,4171.0,4171.0,4171.0,4171.0,4171.0,4171.0,4171.0,4171.0,4171.0,4171.0,4171.0,4171.0,4171.0,4171.0,6742.0,6742.0,6742.0,6742.0,6742.0,6502.0,6502.0,6502.0,6502.0,6502.0,6502.0,6502.0,6502.0,6502.0,6502.0,6502.0,6502.0,6502.0,null,null,1065.0,1065.0,1065.0,1065.0,1065.0,1065.0,1065.0,1065.0,1065.0,1065.0,1065.0,1065.0,1065.0,1065.0,1065.0,1065.0,1065.0,1065.0,1065.0,1065.0,1065.0,1065.0,1065.0,1065.0,1065.0,1065.0,1065.0,1065.0,1065.0,1065.0,1065.0,1065.0,1065.0,1065.0,1065.0,null,1065.0,1065.0,1065.0,null,6236.0,6236.0,6236.0,6236.0,6236.0,6236.0,6236.0,6236.0,6236.0,6236.0,6236.0,6236.0,6236.0,6236.0,6236.0,6236.0,6236.0,6236.0,6236.0,6236.0,6236.0,6236.0,6236.0,6236.0,6236.0,6236.0,6236.0,6236.0,6236.0,6236.0,6236.0,6236.0,6236.0,6236.0,6236.0,6236.0,6236.0,6236.0,6236.0,6236.0,6236.0,6236.0,6236.0,6236.0,6236.0,6236.0,6236.0,6236.0,6236.0,6236.0,6236.0,6236.0,6236.0,6236.0,6236.0,6236.0,6236.0,6236.0,6236.0,6236.0,6236.0,6236.0,6236.0,6236.0,6236.0,6236.0,6236.0,6236.0,6236.0,6236.0,null,6236.0,5980.0,5980.0,5980.0,5980.0,5980.0,5980.0,5980.0,5980.0,6121.0,6121.0,6121.0,7065.0,7065.0,7065.0,7065.0,7065.0,2082.0,2082.0,2082.0,2082.0,2082.0,2082.0,2082.0,2082.0,2082.0,2082.0,2082.0,2082.0,2082.0,2082.0,2082.0,2082.0,2082.0,2082.0,2082.0,2082.0,2082.0,2082.0,2082.0,2082.0,2082.0,2082.0,2082.0,2082.0,2082.0,null,null,null,null,null,5673.0,5673.0,5673.0,5673.0,5673.0,5673.0,5673.0,5673.0,5673.0,5673.0,5673.0,5673.0,5673.0],\"y\":[4.89,4.96,4.94,4.9,4.86,4.77,4.95,4.79,3.67,4.94,4.93,4.91,4.83,4.82,5.0,4.89,4.86,4.73,4.91,5.0,4.86,4.78,4.83,4.85,4.75,4.81,4.69,4.73,4.85,4.8,4.84,4.98,4.65,4.79,4.93,4.84,4.8,4.69,4.59,4.86,4.8,4.88,4.88,4.88,4.5,4.83,4.47,4.66,4.82,4.88,4.82,4.74,4.76,4.95,4.83,4.86,4.86,4.81,4.83,4.83,4.83,4.97,4.93,5.0,4.94,4.76,4.83,4.95,4.79,4.88,4.85,4.93,4.89,4.88,4.9,4.67,4.95,4.98,4.72,1.0,4.94,4.38,4.87,4.91,4.85,4.92,4.92,4.76,4.96,4.89,4.93,4.83,4.93,4.91,4.78,4.87,4.43,5.0,4.72,4.98,4.92,4.74,4.95,5.0,4.76,4.7,4.94,4.8,4.76,4.7,4.77,4.84,4.56,4.87,4.77,4.86,4.85,4.92,4.86,4.1,4.82,4.93,4.76,4.37,4.86,4.98,4.81,4.95,5.0,5.0,4.75,4.98,4.5,4.66,4.38,4.12,4.85,4.68,4.92,5.0,4.77,4.68,4.77,4.89,4.82,4.92,5.0,4.9,4.86,4.95,4.94,4.88,4.89,4.85,4.56,4.88,4.95,4.68,4.8,5.0,4.94,4.93,4.91,4.79,5.0,4.73,4.82,5.0,4.91,4.95,4.96,4.85,4.88,4.7,4.97,4.53,4.88,4.76,4.79,4.64,4.87,4.9,4.6,4.93,4.96,4.98,4.95,4.91,4.9,4.96,4.88,4.8,4.81,4.95,5.0,5.0,4.94,4.62,4.84,4.93,4.84,4.63,4.77,4.88,4.9,4.88,4.82,4.78,4.97,4.77,5.0,4.89,4.73,4.99,4.94,5.0,4.83,4.73,4.61,4.62,4.32,4.94,4.74,4.87,4.75,4.68,4.91,4.86,4.89,4.95,4.96,4.96,4.88,4.85,5.0,4.96,4.68,4.57,4.97,4.93,4.9,4.84,4.84,4.83,4.7,4.94,5.0,4.89,4.95,4.74,4.89,4.98,4.87,4.84,4.77,4.43,4.92,4.33,4.55,5.0,4.96,4.97,5.0,4.88,4.35,4.55,4.66,4.63,4.89,4.93,4.26,4.39,4.96,5.0,4.75,4.69,4.95,5.0,4.87,4.93,4.51,4.79,4.97,4.9,5.0,5.0,4.96,4.96,4.0,4.93,4.47,4.75,4.9,4.76,4.65,4.67,4.64,4.93,4.88,4.68,4.95,4.45,4.85,4.97,4.74,4.65,4.69,4.69,4.78,4.88,4.88,4.82,4.93,4.93,4.48,4.85,4.93,4.88,5.0,4.88,4.95,4.86,4.96,4.91,4.85,4.9,4.87,5.0,5.0,4.99,4.97,4.96,4.83,4.57,4.81,4.93,4.85,5.0,4.63,4.94,4.87,4.98,4.63,4.61,4.82,4.74,4.67,4.77,4.76,4.88,4.84,4.95,4.82,4.97,4.76,5.0,4.9,4.85,4.46,5.0,4.62,4.94,4.85,4.94,4.98,4.39,4.92,4.89,4.83,4.92,5.0,4.93,4.94,4.75,4.97,4.84,4.8,4.95,5.0,4.97,5.0,4.85,4.92,4.55,4.55,4.86,4.92,4.89,4.69,4.95,4.61,4.93,4.93,4.96,4.77,4.92,4.91,4.44,4.82,5.0,4.88,4.96,4.97,4.6,4.97,4.83,4.97,4.87,4.98,4.95,4.91,4.89,4.53,4.95,4.81,4.85,4.52,4.63,4.76,4.98,4.8,4.86,4.86,4.87,4.98,4.9,4.83,4.42,4.99,4.84,4.96,4.69,4.44,4.88,4.59,4.88,4.67,4.97,4.84,4.87,4.9,4.98,4.86,4.57,4.64,4.9,4.88,4.67,4.64,4.08,4.12,4.85,4.8,4.83,4.74,5.0,4.77,4.64,4.81,4.73,4.74,4.68,4.07,4.93,4.53,4.87,4.9,5.0,4.91,4.94,5.0,4.85,4.94,4.88,4.19,4.85,4.92,4.97,4.71,4.64,4.67,4.69,4.94,5.0,4.84,4.34,5.0,4.68,4.83,4.99,4.64,4.87,4.93,4.88,4.0,4.62,4.65,4.88,4.67,4.86,4.86,4.98,4.87,4.84,4.97,4.84,4.65,4.79,4.96,4.98,5.0,4.73,4.73,4.99,4.67,5.0,5.0,4.86,4.77,4.98,4.45,4.96,4.92,4.54,4.94,4.79,4.82,4.61,4.83,5.0,4.81,4.79,4.8,4.83,4.88,4.98,4.95,4.94,5.0,4.82,4.75,5.0,4.93,4.91,4.94,4.72,4.89,4.74,4.93,4.76,4.94,4.85,4.93,4.82,4.83,4.86,4.86,4.95,5.0,5.0,4.59,4.97,4.99,4.99,4.98,5.0,4.88,4.95,4.95,4.96,4.91,4.76,4.7,4.98,4.83,4.67,4.9,4.95,5.0,4.82,4.84,4.97,4.92,4.47,4.72,4.67,4.94,4.63,4.55,4.93,4.33,4.96,4.99,4.83,4.82,4.94,4.91,4.94,4.97,4.98,4.82,4.84,4.93,4.89,4.92,4.65,4.73,4.85,4.81,4.67,4.99,4.67,4.82,4.94,4.71,4.95,4.92,4.89,4.98,4.89,5.0,4.86,4.84,4.97,4.78,4.94,4.58,4.08,4.88,4.67,5.0,5.0,5.0,4.62,4.0,4.86,5.0,4.91,4.86,4.81,4.81,4.44,4.9,4.87,4.88,0.0,5.0,4.69,4.75,4.85,4.82,4.66,4.76,4.9,4.95,4.69,4.7,4.89,4.71,4.38,5.0,4.74,4.88,4.89,5.0,4.91,4.93,4.91,4.44,4.87,4.67,4.62,4.72,4.94,5.0,4.77,4.78,5.0,5.0,4.59,5.0,4.84,4.59,4.89,4.98,4.73,5.0,5.0,4.97,4.91,4.89,4.64,4.91,4.97,4.91,4.86,4.83,4.78,4.86,4.73,4.49,4.72,4.81,4.92,4.79,4.75,4.82,4.38,4.65,4.94,4.41,4.2,4.63,4.82,4.0,4.87,4.92,4.76,4.99,4.84,4.73,4.79,4.8,5.0,4.65,4.99,4.93,4.58,4.95,4.78,5.0,4.86,4.67,4.96,4.97,4.91,4.5,4.86,4.84,4.55,4.83,4.88,4.91,4.56,4.89,4.98,4.98,4.6,4.71,4.91,5.0,4.61,4.63,4.71,4.83,4.67,4.89,4.73,4.87,4.95,4.85,4.86,4.68,4.95,4.72,4.73,4.86,4.88,4.96,3.0,4.94,5.0,4.97,4.95,4.84,4.77,4.57,4.81,4.8,4.52,4.78,4.89,5.0,4.84,5.0,4.94,5.0,4.76,4.69,4.76,4.88,4.49,4.7,4.97,4.79,4.91,4.83,4.79,4.58,4.93,4.83,4.99,4.77,5.0,4.88,5.0,4.89,4.86,4.94,4.98,4.87,4.74,4.85,4.85,4.97,4.97,4.92,4.99,4.77,4.87,4.83,4.71,4.93,3.0,4.58,4.68,4.42,4.6,4.68,4.68,4.89,4.57,4.77,5.0,4.72,4.8,4.86,4.83,4.94,4.94,5.0,4.89,4.8,4.96,4.63,4.84,4.84,5.0,4.67,5.0,4.86,4.92,4.82,4.63,4.89,4.69,4.88,4.63,4.91,5.0,4.12,5.0,4.76,4.52,4.84,4.87,4.92,5.0,4.95,4.96,4.97,4.75,4.93,4.95,4.96,4.66,4.97,5.0,4.74,4.96,4.97,4.63,4.85,4.9,4.9,4.66,5.0,4.74,4.92,4.73,5.0,4.98,4.71,4.75,4.86,4.78,4.65,4.75,4.95,4.96,4.75,4.97,4.98,4.73,4.89,4.76,4.65,4.9,4.93,4.96,4.92,4.96,4.9,4.69,4.91,4.75,4.71,4.83,4.84,4.91,4.86,4.97,4.97,4.96,4.95,4.62,4.75,4.79,4.69,4.93,4.92,4.53,4.97,4.8,4.54,4.91,4.89,5.0,5.0,4.85,4.96,4.56,4.98,4.51,4.92,4.19,4.98,4.92,4.97,4.38,4.84,4.58,4.74,4.96,4.6,4.0,5.0,4.08,4.5,4.5,4.0,4.8,4.91,4.86,4.78,5.0,4.88,4.96,4.79,4.9,4.79,4.8,4.44,4.91,4.89,4.9,4.97,4.82,4.93,4.9,4.92,4.88,4.82,4.87,4.82,4.83,5.0,4.74,4.95,4.97,4.86,4.71,4.6,4.6,4.5,4.79,5.0,4.8,4.74,4.93],\"type\":\"scatter\"}],                        {\"legend\":{\"bgcolor\":\"#F5F6F9\",\"font\":{\"color\":\"#4D5663\"}},\"paper_bgcolor\":\"#F5F6F9\",\"plot_bgcolor\":\"#F5F6F9\",\"template\":{\"data\":{\"barpolar\":[{\"marker\":{\"line\":{\"color\":\"#E5ECF6\",\"width\":0.5},\"pattern\":{\"fillmode\":\"overlay\",\"size\":10,\"solidity\":0.2}},\"type\":\"barpolar\"}],\"bar\":[{\"error_x\":{\"color\":\"#2a3f5f\"},\"error_y\":{\"color\":\"#2a3f5f\"},\"marker\":{\"line\":{\"color\":\"#E5ECF6\",\"width\":0.5},\"pattern\":{\"fillmode\":\"overlay\",\"size\":10,\"solidity\":0.2}},\"type\":\"bar\"}],\"carpet\":[{\"aaxis\":{\"endlinecolor\":\"#2a3f5f\",\"gridcolor\":\"white\",\"linecolor\":\"white\",\"minorgridcolor\":\"white\",\"startlinecolor\":\"#2a3f5f\"},\"baxis\":{\"endlinecolor\":\"#2a3f5f\",\"gridcolor\":\"white\",\"linecolor\":\"white\",\"minorgridcolor\":\"white\",\"startlinecolor\":\"#2a3f5f\"},\"type\":\"carpet\"}],\"choropleth\":[{\"colorbar\":{\"outlinewidth\":0,\"ticks\":\"\"},\"type\":\"choropleth\"}],\"contourcarpet\":[{\"colorbar\":{\"outlinewidth\":0,\"ticks\":\"\"},\"type\":\"contourcarpet\"}],\"contour\":[{\"colorbar\":{\"outlinewidth\":0,\"ticks\":\"\"},\"colorscale\":[[0.0,\"#0d0887\"],[0.1111111111111111,\"#46039f\"],[0.2222222222222222,\"#7201a8\"],[0.3333333333333333,\"#9c179e\"],[0.4444444444444444,\"#bd3786\"],[0.5555555555555556,\"#d8576b\"],[0.6666666666666666,\"#ed7953\"],[0.7777777777777778,\"#fb9f3a\"],[0.8888888888888888,\"#fdca26\"],[1.0,\"#f0f921\"]],\"type\":\"contour\"}],\"heatmapgl\":[{\"colorbar\":{\"outlinewidth\":0,\"ticks\":\"\"},\"colorscale\":[[0.0,\"#0d0887\"],[0.1111111111111111,\"#46039f\"],[0.2222222222222222,\"#7201a8\"],[0.3333333333333333,\"#9c179e\"],[0.4444444444444444,\"#bd3786\"],[0.5555555555555556,\"#d8576b\"],[0.6666666666666666,\"#ed7953\"],[0.7777777777777778,\"#fb9f3a\"],[0.8888888888888888,\"#fdca26\"],[1.0,\"#f0f921\"]],\"type\":\"heatmapgl\"}],\"heatmap\":[{\"colorbar\":{\"outlinewidth\":0,\"ticks\":\"\"},\"colorscale\":[[0.0,\"#0d0887\"],[0.1111111111111111,\"#46039f\"],[0.2222222222222222,\"#7201a8\"],[0.3333333333333333,\"#9c179e\"],[0.4444444444444444,\"#bd3786\"],[0.5555555555555556,\"#d8576b\"],[0.6666666666666666,\"#ed7953\"],[0.7777777777777778,\"#fb9f3a\"],[0.8888888888888888,\"#fdca26\"],[1.0,\"#f0f921\"]],\"type\":\"heatmap\"}],\"histogram2dcontour\":[{\"colorbar\":{\"outlinewidth\":0,\"ticks\":\"\"},\"colorscale\":[[0.0,\"#0d0887\"],[0.1111111111111111,\"#46039f\"],[0.2222222222222222,\"#7201a8\"],[0.3333333333333333,\"#9c179e\"],[0.4444444444444444,\"#bd3786\"],[0.5555555555555556,\"#d8576b\"],[0.6666666666666666,\"#ed7953\"],[0.7777777777777778,\"#fb9f3a\"],[0.8888888888888888,\"#fdca26\"],[1.0,\"#f0f921\"]],\"type\":\"histogram2dcontour\"}],\"histogram2d\":[{\"colorbar\":{\"outlinewidth\":0,\"ticks\":\"\"},\"colorscale\":[[0.0,\"#0d0887\"],[0.1111111111111111,\"#46039f\"],[0.2222222222222222,\"#7201a8\"],[0.3333333333333333,\"#9c179e\"],[0.4444444444444444,\"#bd3786\"],[0.5555555555555556,\"#d8576b\"],[0.6666666666666666,\"#ed7953\"],[0.7777777777777778,\"#fb9f3a\"],[0.8888888888888888,\"#fdca26\"],[1.0,\"#f0f921\"]],\"type\":\"histogram2d\"}],\"histogram\":[{\"marker\":{\"pattern\":{\"fillmode\":\"overlay\",\"size\":10,\"solidity\":0.2}},\"type\":\"histogram\"}],\"mesh3d\":[{\"colorbar\":{\"outlinewidth\":0,\"ticks\":\"\"},\"type\":\"mesh3d\"}],\"parcoords\":[{\"line\":{\"colorbar\":{\"outlinewidth\":0,\"ticks\":\"\"}},\"type\":\"parcoords\"}],\"pie\":[{\"automargin\":true,\"type\":\"pie\"}],\"scatter3d\":[{\"line\":{\"colorbar\":{\"outlinewidth\":0,\"ticks\":\"\"}},\"marker\":{\"colorbar\":{\"outlinewidth\":0,\"ticks\":\"\"}},\"type\":\"scatter3d\"}],\"scattercarpet\":[{\"marker\":{\"colorbar\":{\"outlinewidth\":0,\"ticks\":\"\"}},\"type\":\"scattercarpet\"}],\"scattergeo\":[{\"marker\":{\"colorbar\":{\"outlinewidth\":0,\"ticks\":\"\"}},\"type\":\"scattergeo\"}],\"scattergl\":[{\"marker\":{\"colorbar\":{\"outlinewidth\":0,\"ticks\":\"\"}},\"type\":\"scattergl\"}],\"scattermapbox\":[{\"marker\":{\"colorbar\":{\"outlinewidth\":0,\"ticks\":\"\"}},\"type\":\"scattermapbox\"}],\"scatterpolargl\":[{\"marker\":{\"colorbar\":{\"outlinewidth\":0,\"ticks\":\"\"}},\"type\":\"scatterpolargl\"}],\"scatterpolar\":[{\"marker\":{\"colorbar\":{\"outlinewidth\":0,\"ticks\":\"\"}},\"type\":\"scatterpolar\"}],\"scatter\":[{\"fillpattern\":{\"fillmode\":\"overlay\",\"size\":10,\"solidity\":0.2},\"type\":\"scatter\"}],\"scatterternary\":[{\"marker\":{\"colorbar\":{\"outlinewidth\":0,\"ticks\":\"\"}},\"type\":\"scatterternary\"}],\"surface\":[{\"colorbar\":{\"outlinewidth\":0,\"ticks\":\"\"},\"colorscale\":[[0.0,\"#0d0887\"],[0.1111111111111111,\"#46039f\"],[0.2222222222222222,\"#7201a8\"],[0.3333333333333333,\"#9c179e\"],[0.4444444444444444,\"#bd3786\"],[0.5555555555555556,\"#d8576b\"],[0.6666666666666666,\"#ed7953\"],[0.7777777777777778,\"#fb9f3a\"],[0.8888888888888888,\"#fdca26\"],[1.0,\"#f0f921\"]],\"type\":\"surface\"}],\"table\":[{\"cells\":{\"fill\":{\"color\":\"#EBF0F8\"},\"line\":{\"color\":\"white\"}},\"header\":{\"fill\":{\"color\":\"#C8D4E3\"},\"line\":{\"color\":\"white\"}},\"type\":\"table\"}]},\"layout\":{\"annotationdefaults\":{\"arrowcolor\":\"#2a3f5f\",\"arrowhead\":0,\"arrowwidth\":1},\"autotypenumbers\":\"strict\",\"coloraxis\":{\"colorbar\":{\"outlinewidth\":0,\"ticks\":\"\"}},\"colorscale\":{\"diverging\":[[0,\"#8e0152\"],[0.1,\"#c51b7d\"],[0.2,\"#de77ae\"],[0.3,\"#f1b6da\"],[0.4,\"#fde0ef\"],[0.5,\"#f7f7f7\"],[0.6,\"#e6f5d0\"],[0.7,\"#b8e186\"],[0.8,\"#7fbc41\"],[0.9,\"#4d9221\"],[1,\"#276419\"]],\"sequential\":[[0.0,\"#0d0887\"],[0.1111111111111111,\"#46039f\"],[0.2222222222222222,\"#7201a8\"],[0.3333333333333333,\"#9c179e\"],[0.4444444444444444,\"#bd3786\"],[0.5555555555555556,\"#d8576b\"],[0.6666666666666666,\"#ed7953\"],[0.7777777777777778,\"#fb9f3a\"],[0.8888888888888888,\"#fdca26\"],[1.0,\"#f0f921\"]],\"sequentialminus\":[[0.0,\"#0d0887\"],[0.1111111111111111,\"#46039f\"],[0.2222222222222222,\"#7201a8\"],[0.3333333333333333,\"#9c179e\"],[0.4444444444444444,\"#bd3786\"],[0.5555555555555556,\"#d8576b\"],[0.6666666666666666,\"#ed7953\"],[0.7777777777777778,\"#fb9f3a\"],[0.8888888888888888,\"#fdca26\"],[1.0,\"#f0f921\"]]},\"colorway\":[\"#636efa\",\"#EF553B\",\"#00cc96\",\"#ab63fa\",\"#FFA15A\",\"#19d3f3\",\"#FF6692\",\"#B6E880\",\"#FF97FF\",\"#FECB52\"],\"font\":{\"color\":\"#2a3f5f\"},\"geo\":{\"bgcolor\":\"white\",\"lakecolor\":\"white\",\"landcolor\":\"#E5ECF6\",\"showlakes\":true,\"showland\":true,\"subunitcolor\":\"white\"},\"hoverlabel\":{\"align\":\"left\"},\"hovermode\":\"closest\",\"mapbox\":{\"style\":\"light\"},\"paper_bgcolor\":\"white\",\"plot_bgcolor\":\"#E5ECF6\",\"polar\":{\"angularaxis\":{\"gridcolor\":\"white\",\"linecolor\":\"white\",\"ticks\":\"\"},\"bgcolor\":\"#E5ECF6\",\"radialaxis\":{\"gridcolor\":\"white\",\"linecolor\":\"white\",\"ticks\":\"\"}},\"scene\":{\"xaxis\":{\"backgroundcolor\":\"#E5ECF6\",\"gridcolor\":\"white\",\"gridwidth\":2,\"linecolor\":\"white\",\"showbackground\":true,\"ticks\":\"\",\"zerolinecolor\":\"white\"},\"yaxis\":{\"backgroundcolor\":\"#E5ECF6\",\"gridcolor\":\"white\",\"gridwidth\":2,\"linecolor\":\"white\",\"showbackground\":true,\"ticks\":\"\",\"zerolinecolor\":\"white\"},\"zaxis\":{\"backgroundcolor\":\"#E5ECF6\",\"gridcolor\":\"white\",\"gridwidth\":2,\"linecolor\":\"white\",\"showbackground\":true,\"ticks\":\"\",\"zerolinecolor\":\"white\"}},\"shapedefaults\":{\"line\":{\"color\":\"#2a3f5f\"}},\"ternary\":{\"aaxis\":{\"gridcolor\":\"white\",\"linecolor\":\"white\",\"ticks\":\"\"},\"baxis\":{\"gridcolor\":\"white\",\"linecolor\":\"white\",\"ticks\":\"\"},\"bgcolor\":\"#E5ECF6\",\"caxis\":{\"gridcolor\":\"white\",\"linecolor\":\"white\",\"ticks\":\"\"}},\"title\":{\"x\":0.05},\"xaxis\":{\"automargin\":true,\"gridcolor\":\"white\",\"linecolor\":\"white\",\"ticks\":\"\",\"title\":{\"standoff\":15},\"zerolinecolor\":\"white\",\"zerolinewidth\":2},\"yaxis\":{\"automargin\":true,\"gridcolor\":\"white\",\"linecolor\":\"white\",\"ticks\":\"\",\"title\":{\"standoff\":15},\"zerolinecolor\":\"white\",\"zerolinewidth\":2}}},\"title\":{\"font\":{\"color\":\"#4D5663\"}},\"xaxis\":{\"gridcolor\":\"#E1E5ED\",\"showgrid\":true,\"tickfont\":{\"color\":\"#4D5663\"},\"title\":{\"font\":{\"color\":\"#4D5663\"},\"text\":\"\"},\"zerolinecolor\":\"#E1E5ED\"},\"yaxis\":{\"gridcolor\":\"#E1E5ED\",\"showgrid\":true,\"tickfont\":{\"color\":\"#4D5663\"},\"title\":{\"font\":{\"color\":\"#4D5663\"},\"text\":\"\"},\"zerolinecolor\":\"#E1E5ED\"}},                        {\"showLink\": true, \"linkText\": \"Export to plot.ly\", \"plotlyServerURL\": \"https://plot.ly\", \"responsive\": true}                    ).then(function(){\n",
       "                            \n",
       "var gd = document.getElementById('5460bf5d-4743-4da9-a357-61016a4717cf');\n",
       "var x = new MutationObserver(function (mutations, observer) {{\n",
       "        var display = window.getComputedStyle(gd).display;\n",
       "        if (!display || display === 'none') {{\n",
       "            console.log([gd, 'removed!']);\n",
       "            Plotly.purge(gd);\n",
       "            observer.disconnect();\n",
       "        }}\n",
       "}});\n",
       "\n",
       "// Listen for the removal of the full notebook cells\n",
       "var notebookContainer = gd.closest('#notebook-container');\n",
       "if (notebookContainer) {{\n",
       "    x.observe(notebookContainer, {childList: true});\n",
       "}}\n",
       "\n",
       "// Listen for the clearing of the current output cell\n",
       "var outputEl = gd.closest('.output');\n",
       "if (outputEl) {{\n",
       "    x.observe(outputEl, {childList: true});\n",
       "}}\n",
       "\n",
       "                        })                };                });            </script>        </div>"
      ]
     },
     "metadata": {},
     "output_type": "display_data"
    }
   ],
   "source": [
    "big_data.iplot(y=\"review_scores_rating\", x=\"brand_id\", mode=\"markers\")"
   ]
  },
  {
   "cell_type": "code",
   "execution_count": 95,
   "id": "7e641e5e-69cb-4324-a6ce-7c99cc00e633",
   "metadata": {},
   "outputs": [
    {
     "data": {
      "application/vnd.plotly.v1+json": {
       "config": {
        "linkText": "Export to plot.ly",
        "plotlyServerURL": "https://plot.ly",
        "showLink": true
       },
       "data": [
        {
         "histfunc": "count",
         "histnorm": "",
         "marker": {
          "color": "rgba(255, 153, 51, 1.0)",
          "line": {
           "color": "#4D5663",
           "width": 1.3
          }
         },
         "name": "host_response_time",
         "opacity": 0.8,
         "orientation": "v",
         "type": "histogram",
         "x": [
          "within an hour",
          "within a day",
          "within an hour",
          "within an hour",
          "within an hour",
          "within an hour",
          "within an hour",
          "within an hour",
          "within a few hours",
          "within an hour",
          "within a day",
          "within an hour",
          "within an hour",
          "within an hour",
          "a few days or more",
          "within an hour",
          "within a few hours",
          "within an hour",
          "within a few hours",
          "within a few hours",
          "within an hour",
          "within an hour",
          "within an hour",
          "within a few hours",
          "within an hour",
          "within an hour",
          "within an hour",
          "a few days or more",
          "within an hour",
          "a few days or more",
          "within an hour",
          "within an hour",
          "within an hour",
          "within a day",
          "within a day",
          "within a day",
          "within a day",
          "within an hour",
          "within an hour",
          "within an hour",
          "within an hour",
          "within an hour",
          "within an hour",
          "within an hour",
          "within an hour",
          "within an hour",
          "within an hour",
          "within a day",
          "within an hour",
          "within an hour",
          "within a few hours",
          "within a day",
          "within an hour",
          "within an hour",
          "within an hour",
          "within a few hours",
          "within a few hours",
          "within a day",
          "within an hour",
          "within a few hours",
          "within a few hours",
          "within a few hours",
          "within a few hours",
          "within a few hours",
          "within an hour",
          "within an hour",
          "within an hour",
          "within a few hours",
          "within an hour",
          "within an hour",
          "within an hour",
          "within an hour",
          "within an hour",
          "within an hour",
          "within an hour",
          "within an hour",
          "within an hour",
          "within an hour",
          "within a few hours",
          "within a few hours",
          "within an hour",
          "within a few hours",
          "within an hour",
          "within an hour",
          "within a day",
          "within an hour",
          "a few days or more",
          "within a few hours",
          "within a day",
          "a few days or more",
          "within an hour",
          "within a day",
          "within a few hours",
          "within an hour",
          "within an hour",
          "within an hour",
          "within a day",
          "within a few hours",
          "within an hour",
          "within a few hours",
          "within an hour",
          "within a day",
          "within an hour",
          "within an hour",
          "within a day",
          "within an hour",
          "within an hour",
          "within an hour",
          "within an hour",
          "within a day",
          "within an hour",
          "a few days or more",
          "within an hour",
          "within an hour",
          "within an hour",
          "within a day",
          "within an hour",
          "within an hour",
          "within an hour",
          "within an hour",
          "within an hour",
          "within an hour",
          "within a few hours",
          "within an hour",
          "within an hour",
          "within an hour",
          "within a few hours",
          "within an hour",
          "within an hour",
          "within an hour",
          "a few days or more",
          "within an hour",
          "within an hour",
          "within an hour",
          "within an hour",
          "within an hour",
          "within an hour",
          "within an hour",
          "within an hour",
          "within a day",
          "within an hour",
          "within an hour",
          "within an hour",
          "within a few hours",
          "within an hour",
          "within an hour",
          "a few days or more",
          "within an hour",
          "within an hour",
          "within an hour",
          "within an hour",
          "within a day",
          "within an hour",
          "within an hour",
          "within an hour",
          "within an hour",
          "within an hour",
          "within an hour",
          "within a few hours",
          "within an hour",
          "within an hour",
          "within an hour",
          "within an hour",
          "within an hour",
          "within an hour",
          "within an hour",
          "within an hour",
          "within an hour",
          "within an hour",
          "within an hour",
          "within an hour",
          "within an hour",
          "within an hour",
          "within an hour",
          "within a few hours",
          "within an hour",
          "within a few hours",
          "within a day",
          "within an hour",
          "within an hour",
          "within an hour",
          "within an hour",
          "within an hour",
          "within an hour",
          "within an hour",
          "within an hour",
          "within an hour",
          "within an hour",
          "within an hour",
          "within an hour",
          "within an hour",
          "within an hour",
          "within an hour",
          "within an hour",
          "within a day",
          "within a day",
          "within an hour",
          "within an hour",
          "within an hour",
          "within a few hours",
          "within a few hours",
          "a few days or more",
          "within an hour",
          "within an hour",
          "within a few hours",
          "within a few hours",
          "within an hour",
          "within an hour",
          "within an hour",
          "within an hour",
          "within a few hours",
          "within a day",
          "within an hour",
          "within an hour",
          "within an hour",
          "within an hour",
          "a few days or more",
          "within an hour",
          "a few days or more",
          "within a few hours",
          "within a day",
          "within a few hours",
          "within a few hours",
          "within an hour",
          "within an hour",
          "within an hour",
          "within an hour",
          "within an hour",
          "within a day",
          "within a few hours",
          "within an hour",
          "within an hour",
          "within a few hours",
          "within a day",
          "within a few hours",
          "within a day",
          "within an hour",
          "within an hour",
          "within an hour",
          "within an hour",
          "within an hour",
          "within an hour",
          "within a few hours",
          "within an hour",
          "within an hour",
          "within an hour",
          "within a few hours",
          "within an hour",
          "within an hour",
          "within an hour",
          "within an hour",
          "within an hour",
          "within a few hours",
          "within an hour",
          "within a day",
          "within a few hours",
          "within an hour",
          "within a day",
          "within an hour",
          "within an hour",
          "within a few hours",
          "within an hour",
          "within an hour",
          "within a few hours",
          "within an hour",
          "within an hour",
          "within an hour",
          "within an hour",
          "within an hour",
          "within a day",
          "within an hour",
          "within an hour",
          "within an hour",
          "within a day",
          "within an hour",
          "within an hour",
          "within a few hours",
          "within a few hours",
          "within an hour",
          "within an hour",
          "within an hour",
          "within an hour",
          "within an hour",
          "within an hour",
          "within an hour",
          "within an hour",
          "within an hour",
          "within an hour",
          "within a few hours",
          "within an hour",
          "within an hour",
          "within a few hours",
          "within an hour",
          "a few days or more",
          "within a day",
          "within an hour",
          "within an hour",
          "within an hour",
          "within an hour",
          "within a few hours",
          "within an hour",
          "within an hour",
          "within an hour",
          "within an hour",
          "within an hour",
          "within an hour",
          "within an hour",
          "a few days or more",
          "within an hour",
          "within an hour",
          "within an hour",
          "within an hour",
          "within an hour",
          "within a day",
          "within a few hours",
          "within an hour",
          "within a day",
          "within an hour",
          "within a day",
          "within an hour",
          "within an hour",
          "within a few hours",
          "within an hour",
          "within an hour",
          "within a day",
          "within an hour",
          "within an hour",
          "within an hour",
          "within an hour",
          "within an hour",
          "within a few hours",
          "within an hour",
          "within an hour",
          "within a few hours",
          "within an hour",
          "within a few hours",
          "within an hour",
          "within an hour",
          "within an hour",
          "within an hour",
          "within an hour",
          "within an hour",
          "within an hour",
          "within a few hours",
          "within a day",
          "within an hour",
          "a few days or more",
          "within an hour",
          "within an hour",
          "within a day",
          "within an hour",
          "within an hour",
          "within a few hours",
          "within an hour",
          "within a day",
          "within a few hours",
          "within a few hours",
          "within a few hours",
          "within an hour",
          "within a few hours",
          "within an hour",
          "within a few hours",
          "within an hour",
          "within an hour",
          "within a few hours",
          "within an hour",
          "a few days or more",
          "within an hour",
          "within a day",
          "within an hour",
          "within an hour",
          "within an hour",
          "within an hour",
          "within an hour",
          "within an hour",
          "within an hour",
          "within a few hours",
          "within an hour",
          "within an hour",
          "within an hour",
          "within a day",
          "within an hour",
          "within a few hours",
          "within an hour",
          "within an hour",
          "within an hour",
          "within an hour",
          "within an hour",
          "within an hour",
          "within an hour",
          "a few days or more",
          "within a day",
          "within an hour",
          "within an hour",
          "within an hour",
          "within an hour",
          "within an hour",
          "within a day",
          "within a few hours",
          "within an hour",
          "within an hour",
          "within an hour",
          "within an hour",
          "within an hour",
          "within an hour",
          "within an hour",
          "within an hour",
          "within a day",
          "within a few hours",
          "within a few hours",
          "within an hour",
          "within an hour",
          "within a day",
          "within an hour",
          "within a few hours",
          "within an hour",
          "within an hour",
          "within an hour",
          "within an hour",
          "within an hour",
          "within an hour",
          "within an hour",
          "within an hour",
          "within a day",
          "within an hour",
          "within a day",
          "within an hour",
          "within an hour",
          "within an hour",
          "within an hour",
          "within an hour",
          "within a day",
          "within an hour",
          "within an hour",
          "within an hour",
          "within an hour",
          "within an hour",
          "within an hour",
          "within a few hours",
          "within an hour",
          "within an hour",
          "within an hour",
          "within an hour",
          "within a day",
          "within an hour",
          "within an hour",
          "within an hour",
          "within an hour",
          "within a day",
          "within a day",
          "within a day",
          "within an hour",
          "within an hour",
          "within an hour",
          "within an hour",
          "within a day",
          "within an hour",
          "within a day",
          "within an hour",
          "within an hour",
          "within an hour",
          "within an hour",
          "within a day",
          "within an hour",
          "within a day",
          "within an hour",
          "within an hour",
          "within an hour",
          "within an hour",
          "within an hour",
          "within a few hours",
          "within a few hours",
          "within a day",
          "within an hour",
          "within a day",
          "within an hour",
          "within an hour",
          "within an hour",
          "within a few hours",
          "within an hour",
          "within an hour",
          "within an hour",
          "within an hour",
          "within an hour",
          "within a day",
          "within an hour",
          "within a day",
          "within an hour",
          "within an hour",
          "within an hour",
          "within a day",
          "within an hour",
          "within an hour",
          "within a day",
          "within an hour",
          "within an hour",
          "within an hour",
          "within an hour",
          "within an hour",
          "within an hour",
          "within a few hours",
          "within an hour",
          "within a day",
          "within an hour",
          "within an hour",
          "within a few hours",
          "within an hour",
          "within a day",
          "within an hour",
          "within a few hours",
          "a few days or more",
          "within an hour",
          "within an hour",
          "within an hour",
          "a few days or more",
          "within a few hours",
          "within an hour",
          "within an hour",
          "within a few hours",
          "within a day",
          "within an hour",
          "within a few hours",
          "a few days or more",
          "within an hour",
          "within an hour",
          "within an hour",
          "within an hour",
          "within an hour",
          "within a day",
          "within a day",
          "within a day",
          "within an hour",
          "within an hour",
          "within an hour",
          "within an hour",
          "within a day",
          "within an hour",
          "within an hour",
          "within an hour",
          "within an hour",
          "within an hour",
          "within a few hours",
          "within a few hours",
          "within a day",
          "within an hour",
          "within an hour",
          "within an hour",
          "a few days or more",
          "within an hour",
          "within an hour",
          "within an hour",
          "within an hour",
          "within a day",
          "within a day",
          "within a day",
          "within a few hours",
          "within an hour",
          "a few days or more",
          "within a few hours",
          "a few days or more",
          "within an hour",
          "within an hour",
          "within an hour",
          "within a day",
          "within a day",
          "within an hour",
          "within a few hours",
          "within a day",
          "within an hour",
          "within an hour",
          "within a few hours",
          "within an hour",
          "within an hour",
          "within a few hours",
          "within an hour",
          "within an hour",
          "within an hour",
          "within an hour",
          "within an hour",
          "within an hour",
          "within a few hours",
          "within a few hours",
          "within an hour",
          "within an hour",
          "within an hour",
          "within an hour",
          "within an hour",
          "within an hour",
          "within a day",
          "within an hour",
          "within a few hours",
          "within an hour",
          "within an hour",
          "within a few hours",
          "a few days or more",
          "within an hour",
          "within an hour",
          "within a few hours",
          "within an hour",
          "within a few hours",
          "within an hour",
          "within an hour",
          "within a few hours",
          "within an hour",
          "within an hour",
          "a few days or more",
          "within an hour",
          "within an hour",
          "within an hour",
          "within an hour",
          "within an hour",
          "within an hour",
          "within a day",
          "within an hour",
          "within a day",
          "within an hour",
          "within an hour",
          "within an hour",
          "within an hour",
          "within an hour",
          "within a few hours",
          "within an hour",
          "within an hour",
          "within an hour",
          "within a day",
          "within an hour",
          "within an hour",
          "within a day",
          "within an hour",
          "within a few hours",
          "within an hour",
          "within a day",
          "within a day",
          "within an hour",
          "within a day",
          "within a day",
          "within an hour",
          "within an hour",
          "within an hour",
          "within an hour",
          "within a day",
          "within a day",
          "within an hour",
          "within a day",
          "within a few hours",
          "within a few hours",
          "within a few hours",
          "within an hour",
          "within a day",
          "within a few hours",
          "within an hour",
          "within a few hours",
          "within an hour",
          "within an hour",
          "within an hour",
          "within an hour",
          "within an hour",
          "within an hour",
          "within an hour",
          "within a day",
          "within a few hours",
          "within an hour",
          "within a few hours",
          "within an hour",
          "within a day",
          "within an hour",
          "within an hour",
          "within an hour",
          "within an hour",
          "within an hour",
          "within an hour",
          "within an hour",
          "within an hour",
          "within an hour",
          "within an hour",
          "within an hour",
          "within an hour",
          "within an hour",
          "within a day",
          "within an hour",
          "within an hour",
          "within an hour",
          "within an hour",
          "within an hour",
          "within an hour",
          "within an hour",
          "within an hour",
          "within an hour",
          "within an hour",
          "within an hour",
          "within a few hours",
          "within an hour",
          "within an hour",
          "within an hour",
          "within an hour",
          "within a few hours",
          "within an hour",
          "within an hour",
          "within an hour",
          "within an hour",
          "within an hour",
          "within an hour",
          "within an hour",
          "within an hour",
          "within a few hours",
          "within an hour",
          "within an hour",
          "within a day",
          "within an hour",
          "within a few hours",
          "within an hour",
          "within an hour",
          "within an hour",
          "within an hour",
          "within an hour",
          "within an hour",
          "within an hour",
          "within an hour",
          "within an hour",
          "within an hour",
          "within an hour",
          "within an hour",
          "within an hour",
          "within an hour",
          "within an hour",
          "within an hour",
          "within an hour",
          "within an hour",
          "within an hour",
          "within an hour",
          "within an hour",
          "within an hour",
          "within an hour",
          "within an hour",
          "within an hour",
          "within an hour",
          "within an hour",
          "within an hour",
          "within an hour",
          "within an hour",
          "within an hour",
          "within an hour",
          "within an hour",
          "within an hour",
          "within a few hours",
          "within an hour",
          "within an hour",
          "within an hour",
          "within an hour",
          "within an hour",
          "within a day",
          "within a day",
          "within a day",
          "within a day",
          "within a day",
          "within a day",
          "within a day",
          "within an hour",
          "within an hour",
          "within an hour",
          "within an hour",
          "within an hour",
          "within an hour",
          "within an hour",
          "within a few hours",
          "within an hour",
          "within an hour",
          "within an hour",
          "a few days or more",
          "within an hour",
          "within an hour",
          "within an hour",
          "within a day",
          "within an hour",
          "within an hour",
          "within an hour",
          "within a day",
          "within an hour",
          "within an hour",
          "within an hour",
          "within an hour",
          "within an hour",
          "within an hour",
          "within an hour",
          "within an hour",
          "within an hour",
          "within a few hours",
          "within an hour",
          "within an hour",
          "within an hour",
          "within a day",
          "within a few hours",
          "within an hour",
          "within a few hours",
          "within an hour",
          "within a day",
          "within an hour",
          "within an hour",
          "within an hour",
          "within an hour",
          "within an hour",
          "within an hour",
          "within a day",
          "within an hour",
          "within an hour",
          "within an hour",
          "within an hour",
          "within an hour",
          "within an hour",
          "within an hour",
          "within an hour",
          "within an hour",
          "within a day",
          "within an hour",
          "within a day",
          "within an hour",
          "within an hour",
          "within an hour",
          "within an hour",
          "within an hour",
          "within an hour",
          "within an hour",
          "within a few hours",
          "within a few hours",
          "within an hour",
          "within an hour",
          "within an hour",
          "within an hour",
          "within an hour",
          "within an hour",
          "within a day",
          "within a few hours",
          "within an hour",
          "within an hour",
          "within an hour",
          "within an hour",
          "within an hour",
          "within an hour",
          "within an hour",
          "within an hour",
          "within an hour",
          "within an hour",
          "within an hour",
          "within an hour",
          "within a day",
          "within an hour",
          "within an hour",
          "within an hour",
          "within an hour",
          "within an hour",
          "within a day",
          "within an hour",
          "within an hour",
          "within an hour",
          "within an hour",
          "within a few hours",
          "within an hour",
          "within an hour",
          "within a few hours",
          "within an hour",
          "within a few hours",
          "within an hour",
          "within an hour",
          "within an hour",
          "a few days or more",
          "within an hour",
          "within an hour",
          "within an hour",
          "within an hour",
          "within an hour",
          "within an hour",
          "within a few hours",
          "within an hour",
          "within a day",
          "within a few hours",
          "within an hour",
          "within an hour",
          "within an hour",
          "within an hour",
          "within an hour",
          "within an hour",
          "within an hour",
          "within an hour",
          "within an hour",
          "within an hour",
          "within an hour",
          "within an hour",
          "within an hour",
          "within an hour",
          "within an hour",
          "within a few hours",
          "within an hour",
          "within an hour",
          "within an hour",
          "within an hour",
          "within a few hours",
          "within an hour",
          "within an hour",
          "within an hour",
          "within a day",
          "within an hour",
          "within an hour",
          "within a few hours",
          "within an hour",
          "within an hour",
          "within an hour",
          "within an hour",
          "within an hour",
          "within an hour",
          "within an hour",
          "within a day",
          "within an hour",
          "within an hour",
          "within an hour",
          "within an hour",
          "within an hour",
          "within an hour",
          "within an hour",
          "within an hour",
          "within an hour",
          "within an hour",
          "within an hour",
          "within an hour",
          "within an hour",
          "within an hour",
          "within an hour",
          "within an hour",
          "within an hour",
          "within an hour",
          "within an hour",
          "within an hour",
          "within an hour",
          "within an hour",
          "within an hour",
          "within a few hours",
          "within a few hours",
          "within an hour",
          "within an hour",
          "within a few hours",
          "within an hour",
          "within an hour",
          "within an hour",
          "within an hour",
          "within an hour",
          "within an hour",
          "within an hour",
          "within an hour",
          "within an hour",
          "within an hour",
          "within an hour",
          "within an hour",
          "within a few hours",
          "within an hour",
          "within a few hours",
          "within an hour",
          "within an hour",
          "within an hour",
          "within an hour",
          "within an hour",
          "within an hour",
          "within an hour",
          "within an hour",
          "within an hour",
          "within an hour",
          "within a few hours",
          "within an hour",
          "within an hour",
          "within an hour",
          "within an hour",
          "within an hour",
          "within an hour",
          "within an hour",
          "within an hour",
          "within an hour",
          "a few days or more",
          "within an hour",
          "within an hour",
          "within an hour",
          "within an hour",
          "within an hour",
          "within an hour",
          "within an hour",
          "within an hour",
          "within an hour",
          "within an hour",
          "within an hour",
          "within an hour",
          "within a few hours",
          "within an hour",
          "within an hour",
          "within an hour",
          "within a day",
          "within an hour",
          "a few days or more",
          "a few days or more",
          "within an hour",
          "within a few hours",
          "within an hour",
          "within a day",
          "within an hour"
         ]
        }
       ],
       "layout": {
        "autosize": true,
        "barmode": "overlay",
        "legend": {
         "bgcolor": "#F5F6F9",
         "font": {
          "color": "#4D5663"
         }
        },
        "paper_bgcolor": "#F5F6F9",
        "plot_bgcolor": "#F5F6F9",
        "template": {
         "data": {
          "bar": [
           {
            "error_x": {
             "color": "#2a3f5f"
            },
            "error_y": {
             "color": "#2a3f5f"
            },
            "marker": {
             "line": {
              "color": "#E5ECF6",
              "width": 0.5
             },
             "pattern": {
              "fillmode": "overlay",
              "size": 10,
              "solidity": 0.2
             }
            },
            "type": "bar"
           }
          ],
          "barpolar": [
           {
            "marker": {
             "line": {
              "color": "#E5ECF6",
              "width": 0.5
             },
             "pattern": {
              "fillmode": "overlay",
              "size": 10,
              "solidity": 0.2
             }
            },
            "type": "barpolar"
           }
          ],
          "carpet": [
           {
            "aaxis": {
             "endlinecolor": "#2a3f5f",
             "gridcolor": "white",
             "linecolor": "white",
             "minorgridcolor": "white",
             "startlinecolor": "#2a3f5f"
            },
            "baxis": {
             "endlinecolor": "#2a3f5f",
             "gridcolor": "white",
             "linecolor": "white",
             "minorgridcolor": "white",
             "startlinecolor": "#2a3f5f"
            },
            "type": "carpet"
           }
          ],
          "choropleth": [
           {
            "colorbar": {
             "outlinewidth": 0,
             "ticks": ""
            },
            "type": "choropleth"
           }
          ],
          "contour": [
           {
            "colorbar": {
             "outlinewidth": 0,
             "ticks": ""
            },
            "colorscale": [
             [
              0,
              "#0d0887"
             ],
             [
              0.1111111111111111,
              "#46039f"
             ],
             [
              0.2222222222222222,
              "#7201a8"
             ],
             [
              0.3333333333333333,
              "#9c179e"
             ],
             [
              0.4444444444444444,
              "#bd3786"
             ],
             [
              0.5555555555555556,
              "#d8576b"
             ],
             [
              0.6666666666666666,
              "#ed7953"
             ],
             [
              0.7777777777777778,
              "#fb9f3a"
             ],
             [
              0.8888888888888888,
              "#fdca26"
             ],
             [
              1,
              "#f0f921"
             ]
            ],
            "type": "contour"
           }
          ],
          "contourcarpet": [
           {
            "colorbar": {
             "outlinewidth": 0,
             "ticks": ""
            },
            "type": "contourcarpet"
           }
          ],
          "heatmap": [
           {
            "colorbar": {
             "outlinewidth": 0,
             "ticks": ""
            },
            "colorscale": [
             [
              0,
              "#0d0887"
             ],
             [
              0.1111111111111111,
              "#46039f"
             ],
             [
              0.2222222222222222,
              "#7201a8"
             ],
             [
              0.3333333333333333,
              "#9c179e"
             ],
             [
              0.4444444444444444,
              "#bd3786"
             ],
             [
              0.5555555555555556,
              "#d8576b"
             ],
             [
              0.6666666666666666,
              "#ed7953"
             ],
             [
              0.7777777777777778,
              "#fb9f3a"
             ],
             [
              0.8888888888888888,
              "#fdca26"
             ],
             [
              1,
              "#f0f921"
             ]
            ],
            "type": "heatmap"
           }
          ],
          "heatmapgl": [
           {
            "colorbar": {
             "outlinewidth": 0,
             "ticks": ""
            },
            "colorscale": [
             [
              0,
              "#0d0887"
             ],
             [
              0.1111111111111111,
              "#46039f"
             ],
             [
              0.2222222222222222,
              "#7201a8"
             ],
             [
              0.3333333333333333,
              "#9c179e"
             ],
             [
              0.4444444444444444,
              "#bd3786"
             ],
             [
              0.5555555555555556,
              "#d8576b"
             ],
             [
              0.6666666666666666,
              "#ed7953"
             ],
             [
              0.7777777777777778,
              "#fb9f3a"
             ],
             [
              0.8888888888888888,
              "#fdca26"
             ],
             [
              1,
              "#f0f921"
             ]
            ],
            "type": "heatmapgl"
           }
          ],
          "histogram": [
           {
            "marker": {
             "pattern": {
              "fillmode": "overlay",
              "size": 10,
              "solidity": 0.2
             }
            },
            "type": "histogram"
           }
          ],
          "histogram2d": [
           {
            "colorbar": {
             "outlinewidth": 0,
             "ticks": ""
            },
            "colorscale": [
             [
              0,
              "#0d0887"
             ],
             [
              0.1111111111111111,
              "#46039f"
             ],
             [
              0.2222222222222222,
              "#7201a8"
             ],
             [
              0.3333333333333333,
              "#9c179e"
             ],
             [
              0.4444444444444444,
              "#bd3786"
             ],
             [
              0.5555555555555556,
              "#d8576b"
             ],
             [
              0.6666666666666666,
              "#ed7953"
             ],
             [
              0.7777777777777778,
              "#fb9f3a"
             ],
             [
              0.8888888888888888,
              "#fdca26"
             ],
             [
              1,
              "#f0f921"
             ]
            ],
            "type": "histogram2d"
           }
          ],
          "histogram2dcontour": [
           {
            "colorbar": {
             "outlinewidth": 0,
             "ticks": ""
            },
            "colorscale": [
             [
              0,
              "#0d0887"
             ],
             [
              0.1111111111111111,
              "#46039f"
             ],
             [
              0.2222222222222222,
              "#7201a8"
             ],
             [
              0.3333333333333333,
              "#9c179e"
             ],
             [
              0.4444444444444444,
              "#bd3786"
             ],
             [
              0.5555555555555556,
              "#d8576b"
             ],
             [
              0.6666666666666666,
              "#ed7953"
             ],
             [
              0.7777777777777778,
              "#fb9f3a"
             ],
             [
              0.8888888888888888,
              "#fdca26"
             ],
             [
              1,
              "#f0f921"
             ]
            ],
            "type": "histogram2dcontour"
           }
          ],
          "mesh3d": [
           {
            "colorbar": {
             "outlinewidth": 0,
             "ticks": ""
            },
            "type": "mesh3d"
           }
          ],
          "parcoords": [
           {
            "line": {
             "colorbar": {
              "outlinewidth": 0,
              "ticks": ""
             }
            },
            "type": "parcoords"
           }
          ],
          "pie": [
           {
            "automargin": true,
            "type": "pie"
           }
          ],
          "scatter": [
           {
            "fillpattern": {
             "fillmode": "overlay",
             "size": 10,
             "solidity": 0.2
            },
            "type": "scatter"
           }
          ],
          "scatter3d": [
           {
            "line": {
             "colorbar": {
              "outlinewidth": 0,
              "ticks": ""
             }
            },
            "marker": {
             "colorbar": {
              "outlinewidth": 0,
              "ticks": ""
             }
            },
            "type": "scatter3d"
           }
          ],
          "scattercarpet": [
           {
            "marker": {
             "colorbar": {
              "outlinewidth": 0,
              "ticks": ""
             }
            },
            "type": "scattercarpet"
           }
          ],
          "scattergeo": [
           {
            "marker": {
             "colorbar": {
              "outlinewidth": 0,
              "ticks": ""
             }
            },
            "type": "scattergeo"
           }
          ],
          "scattergl": [
           {
            "marker": {
             "colorbar": {
              "outlinewidth": 0,
              "ticks": ""
             }
            },
            "type": "scattergl"
           }
          ],
          "scattermapbox": [
           {
            "marker": {
             "colorbar": {
              "outlinewidth": 0,
              "ticks": ""
             }
            },
            "type": "scattermapbox"
           }
          ],
          "scatterpolar": [
           {
            "marker": {
             "colorbar": {
              "outlinewidth": 0,
              "ticks": ""
             }
            },
            "type": "scatterpolar"
           }
          ],
          "scatterpolargl": [
           {
            "marker": {
             "colorbar": {
              "outlinewidth": 0,
              "ticks": ""
             }
            },
            "type": "scatterpolargl"
           }
          ],
          "scatterternary": [
           {
            "marker": {
             "colorbar": {
              "outlinewidth": 0,
              "ticks": ""
             }
            },
            "type": "scatterternary"
           }
          ],
          "surface": [
           {
            "colorbar": {
             "outlinewidth": 0,
             "ticks": ""
            },
            "colorscale": [
             [
              0,
              "#0d0887"
             ],
             [
              0.1111111111111111,
              "#46039f"
             ],
             [
              0.2222222222222222,
              "#7201a8"
             ],
             [
              0.3333333333333333,
              "#9c179e"
             ],
             [
              0.4444444444444444,
              "#bd3786"
             ],
             [
              0.5555555555555556,
              "#d8576b"
             ],
             [
              0.6666666666666666,
              "#ed7953"
             ],
             [
              0.7777777777777778,
              "#fb9f3a"
             ],
             [
              0.8888888888888888,
              "#fdca26"
             ],
             [
              1,
              "#f0f921"
             ]
            ],
            "type": "surface"
           }
          ],
          "table": [
           {
            "cells": {
             "fill": {
              "color": "#EBF0F8"
             },
             "line": {
              "color": "white"
             }
            },
            "header": {
             "fill": {
              "color": "#C8D4E3"
             },
             "line": {
              "color": "white"
             }
            },
            "type": "table"
           }
          ]
         },
         "layout": {
          "annotationdefaults": {
           "arrowcolor": "#2a3f5f",
           "arrowhead": 0,
           "arrowwidth": 1
          },
          "autotypenumbers": "strict",
          "coloraxis": {
           "colorbar": {
            "outlinewidth": 0,
            "ticks": ""
           }
          },
          "colorscale": {
           "diverging": [
            [
             0,
             "#8e0152"
            ],
            [
             0.1,
             "#c51b7d"
            ],
            [
             0.2,
             "#de77ae"
            ],
            [
             0.3,
             "#f1b6da"
            ],
            [
             0.4,
             "#fde0ef"
            ],
            [
             0.5,
             "#f7f7f7"
            ],
            [
             0.6,
             "#e6f5d0"
            ],
            [
             0.7,
             "#b8e186"
            ],
            [
             0.8,
             "#7fbc41"
            ],
            [
             0.9,
             "#4d9221"
            ],
            [
             1,
             "#276419"
            ]
           ],
           "sequential": [
            [
             0,
             "#0d0887"
            ],
            [
             0.1111111111111111,
             "#46039f"
            ],
            [
             0.2222222222222222,
             "#7201a8"
            ],
            [
             0.3333333333333333,
             "#9c179e"
            ],
            [
             0.4444444444444444,
             "#bd3786"
            ],
            [
             0.5555555555555556,
             "#d8576b"
            ],
            [
             0.6666666666666666,
             "#ed7953"
            ],
            [
             0.7777777777777778,
             "#fb9f3a"
            ],
            [
             0.8888888888888888,
             "#fdca26"
            ],
            [
             1,
             "#f0f921"
            ]
           ],
           "sequentialminus": [
            [
             0,
             "#0d0887"
            ],
            [
             0.1111111111111111,
             "#46039f"
            ],
            [
             0.2222222222222222,
             "#7201a8"
            ],
            [
             0.3333333333333333,
             "#9c179e"
            ],
            [
             0.4444444444444444,
             "#bd3786"
            ],
            [
             0.5555555555555556,
             "#d8576b"
            ],
            [
             0.6666666666666666,
             "#ed7953"
            ],
            [
             0.7777777777777778,
             "#fb9f3a"
            ],
            [
             0.8888888888888888,
             "#fdca26"
            ],
            [
             1,
             "#f0f921"
            ]
           ]
          },
          "colorway": [
           "#636efa",
           "#EF553B",
           "#00cc96",
           "#ab63fa",
           "#FFA15A",
           "#19d3f3",
           "#FF6692",
           "#B6E880",
           "#FF97FF",
           "#FECB52"
          ],
          "font": {
           "color": "#2a3f5f"
          },
          "geo": {
           "bgcolor": "white",
           "lakecolor": "white",
           "landcolor": "#E5ECF6",
           "showlakes": true,
           "showland": true,
           "subunitcolor": "white"
          },
          "hoverlabel": {
           "align": "left"
          },
          "hovermode": "closest",
          "mapbox": {
           "style": "light"
          },
          "paper_bgcolor": "white",
          "plot_bgcolor": "#E5ECF6",
          "polar": {
           "angularaxis": {
            "gridcolor": "white",
            "linecolor": "white",
            "ticks": ""
           },
           "bgcolor": "#E5ECF6",
           "radialaxis": {
            "gridcolor": "white",
            "linecolor": "white",
            "ticks": ""
           }
          },
          "scene": {
           "xaxis": {
            "backgroundcolor": "#E5ECF6",
            "gridcolor": "white",
            "gridwidth": 2,
            "linecolor": "white",
            "showbackground": true,
            "ticks": "",
            "zerolinecolor": "white"
           },
           "yaxis": {
            "backgroundcolor": "#E5ECF6",
            "gridcolor": "white",
            "gridwidth": 2,
            "linecolor": "white",
            "showbackground": true,
            "ticks": "",
            "zerolinecolor": "white"
           },
           "zaxis": {
            "backgroundcolor": "#E5ECF6",
            "gridcolor": "white",
            "gridwidth": 2,
            "linecolor": "white",
            "showbackground": true,
            "ticks": "",
            "zerolinecolor": "white"
           }
          },
          "shapedefaults": {
           "line": {
            "color": "#2a3f5f"
           }
          },
          "ternary": {
           "aaxis": {
            "gridcolor": "white",
            "linecolor": "white",
            "ticks": ""
           },
           "baxis": {
            "gridcolor": "white",
            "linecolor": "white",
            "ticks": ""
           },
           "bgcolor": "#E5ECF6",
           "caxis": {
            "gridcolor": "white",
            "linecolor": "white",
            "ticks": ""
           }
          },
          "title": {
           "x": 0.05
          },
          "xaxis": {
           "automargin": true,
           "gridcolor": "white",
           "linecolor": "white",
           "ticks": "",
           "title": {
            "standoff": 15
           },
           "zerolinecolor": "white",
           "zerolinewidth": 2
          },
          "yaxis": {
           "automargin": true,
           "gridcolor": "white",
           "linecolor": "white",
           "ticks": "",
           "title": {
            "standoff": 15
           },
           "zerolinecolor": "white",
           "zerolinewidth": 2
          }
         }
        },
        "title": {
         "font": {
          "color": "#4D5663"
         }
        },
        "xaxis": {
         "autorange": true,
         "gridcolor": "#E1E5ED",
         "range": [
          -0.5,
          3.5
         ],
         "showgrid": true,
         "tickfont": {
          "color": "#4D5663"
         },
         "title": {
          "font": {
           "color": "#4D5663"
          },
          "text": ""
         },
         "type": "category",
         "zerolinecolor": "#E1E5ED"
        },
        "yaxis": {
         "autorange": true,
         "gridcolor": "#E1E5ED",
         "range": [
          0,
          765.2631578947369
         ],
         "showgrid": true,
         "tickfont": {
          "color": "#4D5663"
         },
         "title": {
          "font": {
           "color": "#4D5663"
          },
          "text": ""
         },
         "zerolinecolor": "#E1E5ED"
        }
       }
      },
      "image/png": "[encoded data removed]",
      "text/html": [
       "<div>                            <div id=\"84bbf8aa-b0d3-44a1-bc3b-bed5b91fb184\" class=\"plotly-graph-div\" style=\"height:525px; width:100%;\"></div>            <script type=\"text/javascript\">                require([\"plotly\"], function(Plotly) {                    window.PLOTLYENV=window.PLOTLYENV || {};\n",
       "                    window.PLOTLYENV.BASE_URL='https://plot.ly';                                    if (document.getElementById(\"84bbf8aa-b0d3-44a1-bc3b-bed5b91fb184\")) {                    Plotly.newPlot(                        \"84bbf8aa-b0d3-44a1-bc3b-bed5b91fb184\",                        [{\"histfunc\":\"count\",\"histnorm\":\"\",\"marker\":{\"color\":\"rgba(255, 153, 51, 1.0)\",\"line\":{\"color\":\"#4D5663\",\"width\":1.3}},\"name\":\"host_response_time\",\"opacity\":0.8,\"orientation\":\"v\",\"x\":[\"within an hour\",\"within a day\",\"within an hour\",\"within an hour\",\"within an hour\",\"within an hour\",\"within an hour\",\"within an hour\",\"within a few hours\",\"within an hour\",\"within a day\",\"within an hour\",\"within an hour\",\"within an hour\",\"a few days or more\",\"within an hour\",\"within a few hours\",\"within an hour\",\"within a few hours\",\"within a few hours\",\"within an hour\",\"within an hour\",\"within an hour\",\"within a few hours\",\"within an hour\",\"within an hour\",\"within an hour\",\"a few days or more\",\"within an hour\",\"a few days or more\",\"within an hour\",\"within an hour\",\"within an hour\",\"within a day\",\"within a day\",\"within a day\",\"within a day\",\"within an hour\",\"within an hour\",\"within an hour\",\"within an hour\",\"within an hour\",\"within an hour\",\"within an hour\",\"within an hour\",\"within an hour\",\"within an hour\",\"within a day\",\"within an hour\",\"within an hour\",\"within a few hours\",\"within a day\",\"within an hour\",\"within an hour\",\"within an hour\",\"within a few hours\",\"within a few hours\",\"within a day\",\"within an hour\",\"within a few hours\",\"within a few hours\",\"within a few hours\",\"within a few hours\",\"within a few hours\",\"within an hour\",\"within an hour\",\"within an hour\",\"within a few hours\",\"within an hour\",\"within an hour\",\"within an hour\",\"within an hour\",\"within an hour\",\"within an hour\",\"within an hour\",\"within an hour\",\"within an hour\",\"within an hour\",\"within a few hours\",\"within a few hours\",\"within an hour\",\"within a few hours\",\"within an hour\",\"within an hour\",\"within a day\",\"within an hour\",\"a few days or more\",\"within a few hours\",\"within a day\",\"a few days or more\",\"within an hour\",\"within a day\",\"within a few hours\",\"within an hour\",\"within an hour\",\"within an hour\",\"within a day\",\"within a few hours\",\"within an hour\",\"within a few hours\",\"within an hour\",\"within a day\",\"within an hour\",\"within an hour\",\"within a day\",\"within an hour\",\"within an hour\",\"within an hour\",\"within an hour\",\"within a day\",\"within an hour\",\"a few days or more\",\"within an hour\",\"within an hour\",\"within an hour\",\"within a day\",\"within an hour\",\"within an hour\",\"within an hour\",\"within an hour\",\"within an hour\",\"within an hour\",\"within a few hours\",\"within an hour\",\"within an hour\",\"within an hour\",\"within a few hours\",\"within an hour\",\"within an hour\",\"within an hour\",\"a few days or more\",\"within an hour\",\"within an hour\",\"within an hour\",\"within an hour\",\"within an hour\",\"within an hour\",\"within an hour\",\"within an hour\",\"within a day\",\"within an hour\",\"within an hour\",\"within an hour\",\"within a few hours\",\"within an hour\",\"within an hour\",\"a few days or more\",\"within an hour\",\"within an hour\",\"within an hour\",\"within an hour\",\"within a day\",\"within an hour\",\"within an hour\",\"within an hour\",\"within an hour\",\"within an hour\",\"within an hour\",\"within a few hours\",\"within an hour\",\"within an hour\",\"within an hour\",\"within an hour\",\"within an hour\",\"within an hour\",\"within an hour\",\"within an hour\",\"within an hour\",\"within an hour\",\"within an hour\",\"within an hour\",\"within an hour\",\"within an hour\",\"within an hour\",\"within a few hours\",\"within an hour\",\"within a few hours\",\"within a day\",\"within an hour\",\"within an hour\",\"within an hour\",\"within an hour\",\"within an hour\",\"within an hour\",\"within an hour\",\"within an hour\",\"within an hour\",\"within an hour\",\"within an hour\",\"within an hour\",\"within an hour\",\"within an hour\",\"within an hour\",\"within an hour\",\"within a day\",\"within a day\",\"within an hour\",\"within an hour\",\"within an hour\",\"within a few hours\",\"within a few hours\",\"a few days or more\",\"within an hour\",\"within an hour\",\"within a few hours\",\"within a few hours\",\"within an hour\",\"within an hour\",\"within an hour\",\"within an hour\",\"within a few hours\",\"within a day\",\"within an hour\",\"within an hour\",\"within an hour\",\"within an hour\",\"a few days or more\",\"within an hour\",\"a few days or more\",\"within a few hours\",\"within a day\",\"within a few hours\",\"within a few hours\",\"within an hour\",\"within an hour\",\"within an hour\",\"within an hour\",\"within an hour\",\"within a day\",\"within a few hours\",\"within an hour\",\"within an hour\",\"within a few hours\",\"within a day\",\"within a few hours\",\"within a day\",\"within an hour\",\"within an hour\",\"within an hour\",\"within an hour\",\"within an hour\",\"within an hour\",\"within a few hours\",\"within an hour\",\"within an hour\",\"within an hour\",\"within a few hours\",\"within an hour\",\"within an hour\",\"within an hour\",\"within an hour\",\"within an hour\",\"within a few hours\",\"within an hour\",\"within a day\",\"within a few hours\",\"within an hour\",\"within a day\",\"within an hour\",\"within an hour\",\"within a few hours\",\"within an hour\",\"within an hour\",\"within a few hours\",\"within an hour\",\"within an hour\",\"within an hour\",\"within an hour\",\"within an hour\",\"within a day\",\"within an hour\",\"within an hour\",\"within an hour\",\"within a day\",\"within an hour\",\"within an hour\",\"within a few hours\",\"within a few hours\",\"within an hour\",\"within an hour\",\"within an hour\",\"within an hour\",\"within an hour\",\"within an hour\",\"within an hour\",\"within an hour\",\"within an hour\",\"within an hour\",\"within a few hours\",\"within an hour\",\"within an hour\",\"within a few hours\",\"within an hour\",\"a few days or more\",\"within a day\",\"within an hour\",\"within an hour\",\"within an hour\",\"within an hour\",\"within a few hours\",\"within an hour\",\"within an hour\",\"within an hour\",\"within an hour\",\"within an hour\",\"within an hour\",\"within an hour\",\"a few days or more\",\"within an hour\",\"within an hour\",\"within an hour\",\"within an hour\",\"within an hour\",\"within a day\",\"within a few hours\",\"within an hour\",\"within a day\",\"within an hour\",\"within a day\",\"within an hour\",\"within an hour\",\"within a few hours\",\"within an hour\",\"within an hour\",\"within a day\",\"within an hour\",\"within an hour\",\"within an hour\",\"within an hour\",\"within an hour\",\"within a few hours\",\"within an hour\",\"within an hour\",\"within a few hours\",\"within an hour\",\"within a few hours\",\"within an hour\",\"within an hour\",\"within an hour\",\"within an hour\",\"within an hour\",\"within an hour\",\"within an hour\",\"within a few hours\",\"within a day\",\"within an hour\",\"a few days or more\",\"within an hour\",\"within an hour\",\"within a day\",\"within an hour\",\"within an hour\",\"within a few hours\",\"within an hour\",\"within a day\",\"within a few hours\",\"within a few hours\",\"within a few hours\",\"within an hour\",\"within a few hours\",\"within an hour\",\"within a few hours\",\"within an hour\",\"within an hour\",\"within a few hours\",\"within an hour\",\"a few days or more\",\"within an hour\",\"within a day\",\"within an hour\",\"within an hour\",\"within an hour\",\"within an hour\",\"within an hour\",\"within an hour\",\"within an hour\",\"within a few hours\",\"within an hour\",\"within an hour\",\"within an hour\",\"within a day\",\"within an hour\",\"within a few hours\",\"within an hour\",\"within an hour\",\"within an hour\",\"within an hour\",\"within an hour\",\"within an hour\",\"within an hour\",\"a few days or more\",\"within a day\",\"within an hour\",\"within an hour\",\"within an hour\",\"within an hour\",\"within an hour\",\"within a day\",\"within a few hours\",\"within an hour\",\"within an hour\",\"within an hour\",\"within an hour\",\"within an hour\",\"within an hour\",\"within an hour\",\"within an hour\",\"within a day\",\"within a few hours\",\"within a few hours\",\"within an hour\",\"within an hour\",\"within a day\",\"within an hour\",\"within a few hours\",\"within an hour\",\"within an hour\",\"within an hour\",\"within an hour\",\"within an hour\",\"within an hour\",\"within an hour\",\"within an hour\",\"within a day\",\"within an hour\",\"within a day\",\"within an hour\",\"within an hour\",\"within an hour\",\"within an hour\",\"within an hour\",\"within a day\",\"within an hour\",\"within an hour\",\"within an hour\",\"within an hour\",\"within an hour\",\"within an hour\",\"within a few hours\",\"within an hour\",\"within an hour\",\"within an hour\",\"within an hour\",\"within a day\",\"within an hour\",\"within an hour\",\"within an hour\",\"within an hour\",\"within a day\",\"within a day\",\"within a day\",\"within an hour\",\"within an hour\",\"within an hour\",\"within an hour\",\"within a day\",\"within an hour\",\"within a day\",\"within an hour\",\"within an hour\",\"within an hour\",\"within an hour\",\"within a day\",\"within an hour\",\"within a day\",\"within an hour\",\"within an hour\",\"within an hour\",\"within an hour\",\"within an hour\",\"within a few hours\",\"within a few hours\",\"within a day\",\"within an hour\",\"within a day\",\"within an hour\",\"within an hour\",\"within an hour\",\"within a few hours\",\"within an hour\",\"within an hour\",\"within an hour\",\"within an hour\",\"within an hour\",\"within a day\",\"within an hour\",\"within a day\",\"within an hour\",\"within an hour\",\"within an hour\",\"within a day\",\"within an hour\",\"within an hour\",\"within a day\",\"within an hour\",\"within an hour\",\"within an hour\",\"within an hour\",\"within an hour\",\"within an hour\",\"within a few hours\",\"within an hour\",\"within a day\",\"within an hour\",\"within an hour\",\"within a few hours\",\"within an hour\",\"within a day\",\"within an hour\",\"within a few hours\",\"a few days or more\",\"within an hour\",\"within an hour\",\"within an hour\",\"a few days or more\",\"within a few hours\",\"within an hour\",\"within an hour\",\"within a few hours\",\"within a day\",\"within an hour\",\"within a few hours\",\"a few days or more\",\"within an hour\",\"within an hour\",\"within an hour\",\"within an hour\",\"within an hour\",\"within a day\",\"within a day\",\"within a day\",\"within an hour\",\"within an hour\",\"within an hour\",\"within an hour\",\"within a day\",\"within an hour\",\"within an hour\",\"within an hour\",\"within an hour\",\"within an hour\",\"within a few hours\",\"within a few hours\",\"within a day\",\"within an hour\",\"within an hour\",\"within an hour\",\"a few days or more\",\"within an hour\",\"within an hour\",\"within an hour\",\"within an hour\",\"within a day\",\"within a day\",\"within a day\",\"within a few hours\",\"within an hour\",\"a few days or more\",\"within a few hours\",\"a few days or more\",\"within an hour\",\"within an hour\",\"within an hour\",\"within a day\",\"within a day\",\"within an hour\",\"within a few hours\",\"within a day\",\"within an hour\",\"within an hour\",\"within a few hours\",\"within an hour\",\"within an hour\",\"within a few hours\",\"within an hour\",\"within an hour\",\"within an hour\",\"within an hour\",\"within an hour\",\"within an hour\",\"within a few hours\",\"within a few hours\",\"within an hour\",\"within an hour\",\"within an hour\",\"within an hour\",\"within an hour\",\"within an hour\",\"within a day\",\"within an hour\",\"within a few hours\",\"within an hour\",\"within an hour\",\"within a few hours\",\"a few days or more\",\"within an hour\",\"within an hour\",\"within a few hours\",\"within an hour\",\"within a few hours\",\"within an hour\",\"within an hour\",\"within a few hours\",\"within an hour\",\"within an hour\",\"a few days or more\",\"within an hour\",\"within an hour\",\"within an hour\",\"within an hour\",\"within an hour\",\"within an hour\",\"within a day\",\"within an hour\",\"within a day\",\"within an hour\",\"within an hour\",\"within an hour\",\"within an hour\",\"within an hour\",\"within a few hours\",\"within an hour\",\"within an hour\",\"within an hour\",\"within a day\",\"within an hour\",\"within an hour\",\"within a day\",\"within an hour\",\"within a few hours\",\"within an hour\",\"within a day\",\"within a day\",\"within an hour\",\"within a day\",\"within a day\",\"within an hour\",\"within an hour\",\"within an hour\",\"within an hour\",\"within a day\",\"within a day\",\"within an hour\",\"within a day\",\"within a few hours\",\"within a few hours\",\"within a few hours\",\"within an hour\",\"within a day\",\"within a few hours\",\"within an hour\",\"within a few hours\",\"within an hour\",\"within an hour\",\"within an hour\",\"within an hour\",\"within an hour\",\"within an hour\",\"within an hour\",\"within a day\",\"within a few hours\",\"within an hour\",\"within a few hours\",\"within an hour\",\"within a day\",\"within an hour\",\"within an hour\",\"within an hour\",\"within an hour\",\"within an hour\",\"within an hour\",\"within an hour\",\"within an hour\",\"within an hour\",\"within an hour\",\"within an hour\",\"within an hour\",\"within an hour\",\"within a day\",\"within an hour\",\"within an hour\",\"within an hour\",\"within an hour\",\"within an hour\",\"within an hour\",\"within an hour\",\"within an hour\",\"within an hour\",\"within an hour\",\"within an hour\",\"within a few hours\",\"within an hour\",\"within an hour\",\"within an hour\",\"within an hour\",\"within a few hours\",\"within an hour\",\"within an hour\",\"within an hour\",\"within an hour\",\"within an hour\",\"within an hour\",\"within an hour\",\"within an hour\",\"within a few hours\",\"within an hour\",\"within an hour\",\"within a day\",\"within an hour\",\"within a few hours\",\"within an hour\",\"within an hour\",\"within an hour\",\"within an hour\",\"within an hour\",\"within an hour\",\"within an hour\",\"within an hour\",\"within an hour\",\"within an hour\",\"within an hour\",\"within an hour\",\"within an hour\",\"within an hour\",\"within an hour\",\"within an hour\",\"within an hour\",\"within an hour\",\"within an hour\",\"within an hour\",\"within an hour\",\"within an hour\",\"within an hour\",\"within an hour\",\"within an hour\",\"within an hour\",\"within an hour\",\"within an hour\",\"within an hour\",\"within an hour\",\"within an hour\",\"within an hour\",\"within an hour\",\"within an hour\",\"within a few hours\",\"within an hour\",\"within an hour\",\"within an hour\",\"within an hour\",\"within an hour\",\"within a day\",\"within a day\",\"within a day\",\"within a day\",\"within a day\",\"within a day\",\"within a day\",\"within an hour\",\"within an hour\",\"within an hour\",\"within an hour\",\"within an hour\",\"within an hour\",\"within an hour\",\"within a few hours\",\"within an hour\",\"within an hour\",\"within an hour\",\"a few days or more\",\"within an hour\",\"within an hour\",\"within an hour\",\"within a day\",\"within an hour\",\"within an hour\",\"within an hour\",\"within a day\",\"within an hour\",\"within an hour\",\"within an hour\",\"within an hour\",\"within an hour\",\"within an hour\",\"within an hour\",\"within an hour\",\"within an hour\",\"within a few hours\",\"within an hour\",\"within an hour\",\"within an hour\",\"within a day\",\"within a few hours\",\"within an hour\",\"within a few hours\",\"within an hour\",\"within a day\",\"within an hour\",\"within an hour\",\"within an hour\",\"within an hour\",\"within an hour\",\"within an hour\",\"within a day\",\"within an hour\",\"within an hour\",\"within an hour\",\"within an hour\",\"within an hour\",\"within an hour\",\"within an hour\",\"within an hour\",\"within an hour\",\"within a day\",\"within an hour\",\"within a day\",\"within an hour\",\"within an hour\",\"within an hour\",\"within an hour\",\"within an hour\",\"within an hour\",\"within an hour\",\"within a few hours\",\"within a few hours\",\"within an hour\",\"within an hour\",\"within an hour\",\"within an hour\",\"within an hour\",\"within an hour\",\"within a day\",\"within a few hours\",\"within an hour\",\"within an hour\",\"within an hour\",\"within an hour\",\"within an hour\",\"within an hour\",\"within an hour\",\"within an hour\",\"within an hour\",\"within an hour\",\"within an hour\",\"within an hour\",\"within a day\",\"within an hour\",\"within an hour\",\"within an hour\",\"within an hour\",\"within an hour\",\"within a day\",\"within an hour\",\"within an hour\",\"within an hour\",\"within an hour\",\"within a few hours\",\"within an hour\",\"within an hour\",\"within a few hours\",\"within an hour\",\"within a few hours\",\"within an hour\",\"within an hour\",\"within an hour\",\"a few days or more\",\"within an hour\",\"within an hour\",\"within an hour\",\"within an hour\",\"within an hour\",\"within an hour\",\"within a few hours\",\"within an hour\",\"within a day\",\"within a few hours\",\"within an hour\",\"within an hour\",\"within an hour\",\"within an hour\",\"within an hour\",\"within an hour\",\"within an hour\",\"within an hour\",\"within an hour\",\"within an hour\",\"within an hour\",\"within an hour\",\"within an hour\",\"within an hour\",\"within an hour\",\"within a few hours\",\"within an hour\",\"within an hour\",\"within an hour\",\"within an hour\",\"within a few hours\",\"within an hour\",\"within an hour\",\"within an hour\",\"within a day\",\"within an hour\",\"within an hour\",\"within a few hours\",\"within an hour\",\"within an hour\",\"within an hour\",\"within an hour\",\"within an hour\",\"within an hour\",\"within an hour\",\"within a day\",\"within an hour\",\"within an hour\",\"within an hour\",\"within an hour\",\"within an hour\",\"within an hour\",\"within an hour\",\"within an hour\",\"within an hour\",\"within an hour\",\"within an hour\",\"within an hour\",\"within an hour\",\"within an hour\",\"within an hour\",\"within an hour\",\"within an hour\",\"within an hour\",\"within an hour\",\"within an hour\",\"within an hour\",\"within an hour\",\"within an hour\",\"within a few hours\",\"within a few hours\",\"within an hour\",\"within an hour\",\"within a few hours\",\"within an hour\",\"within an hour\",\"within an hour\",\"within an hour\",\"within an hour\",\"within an hour\",\"within an hour\",\"within an hour\",\"within an hour\",\"within an hour\",\"within an hour\",\"within an hour\",\"within a few hours\",\"within an hour\",\"within a few hours\",\"within an hour\",\"within an hour\",\"within an hour\",\"within an hour\",\"within an hour\",\"within an hour\",\"within an hour\",\"within an hour\",\"within an hour\",\"within an hour\",\"within a few hours\",\"within an hour\",\"within an hour\",\"within an hour\",\"within an hour\",\"within an hour\",\"within an hour\",\"within an hour\",\"within an hour\",\"within an hour\",\"a few days or more\",\"within an hour\",\"within an hour\",\"within an hour\",\"within an hour\",\"within an hour\",\"within an hour\",\"within an hour\",\"within an hour\",\"within an hour\",\"within an hour\",\"within an hour\",\"within an hour\",\"within a few hours\",\"within an hour\",\"within an hour\",\"within an hour\",\"within a day\",\"within an hour\",\"a few days or more\",\"a few days or more\",\"within an hour\",\"within a few hours\",\"within an hour\",\"within a day\",\"within an hour\"],\"type\":\"histogram\"}],                        {\"barmode\":\"overlay\",\"legend\":{\"bgcolor\":\"#F5F6F9\",\"font\":{\"color\":\"#4D5663\"}},\"paper_bgcolor\":\"#F5F6F9\",\"plot_bgcolor\":\"#F5F6F9\",\"template\":{\"data\":{\"barpolar\":[{\"marker\":{\"line\":{\"color\":\"#E5ECF6\",\"width\":0.5},\"pattern\":{\"fillmode\":\"overlay\",\"size\":10,\"solidity\":0.2}},\"type\":\"barpolar\"}],\"bar\":[{\"error_x\":{\"color\":\"#2a3f5f\"},\"error_y\":{\"color\":\"#2a3f5f\"},\"marker\":{\"line\":{\"color\":\"#E5ECF6\",\"width\":0.5},\"pattern\":{\"fillmode\":\"overlay\",\"size\":10,\"solidity\":0.2}},\"type\":\"bar\"}],\"carpet\":[{\"aaxis\":{\"endlinecolor\":\"#2a3f5f\",\"gridcolor\":\"white\",\"linecolor\":\"white\",\"minorgridcolor\":\"white\",\"startlinecolor\":\"#2a3f5f\"},\"baxis\":{\"endlinecolor\":\"#2a3f5f\",\"gridcolor\":\"white\",\"linecolor\":\"white\",\"minorgridcolor\":\"white\",\"startlinecolor\":\"#2a3f5f\"},\"type\":\"carpet\"}],\"choropleth\":[{\"colorbar\":{\"outlinewidth\":0,\"ticks\":\"\"},\"type\":\"choropleth\"}],\"contourcarpet\":[{\"colorbar\":{\"outlinewidth\":0,\"ticks\":\"\"},\"type\":\"contourcarpet\"}],\"contour\":[{\"colorbar\":{\"outlinewidth\":0,\"ticks\":\"\"},\"colorscale\":[[0.0,\"#0d0887\"],[0.1111111111111111,\"#46039f\"],[0.2222222222222222,\"#7201a8\"],[0.3333333333333333,\"#9c179e\"],[0.4444444444444444,\"#bd3786\"],[0.5555555555555556,\"#d8576b\"],[0.6666666666666666,\"#ed7953\"],[0.7777777777777778,\"#fb9f3a\"],[0.8888888888888888,\"#fdca26\"],[1.0,\"#f0f921\"]],\"type\":\"contour\"}],\"heatmapgl\":[{\"colorbar\":{\"outlinewidth\":0,\"ticks\":\"\"},\"colorscale\":[[0.0,\"#0d0887\"],[0.1111111111111111,\"#46039f\"],[0.2222222222222222,\"#7201a8\"],[0.3333333333333333,\"#9c179e\"],[0.4444444444444444,\"#bd3786\"],[0.5555555555555556,\"#d8576b\"],[0.6666666666666666,\"#ed7953\"],[0.7777777777777778,\"#fb9f3a\"],[0.8888888888888888,\"#fdca26\"],[1.0,\"#f0f921\"]],\"type\":\"heatmapgl\"}],\"heatmap\":[{\"colorbar\":{\"outlinewidth\":0,\"ticks\":\"\"},\"colorscale\":[[0.0,\"#0d0887\"],[0.1111111111111111,\"#46039f\"],[0.2222222222222222,\"#7201a8\"],[0.3333333333333333,\"#9c179e\"],[0.4444444444444444,\"#bd3786\"],[0.5555555555555556,\"#d8576b\"],[0.6666666666666666,\"#ed7953\"],[0.7777777777777778,\"#fb9f3a\"],[0.8888888888888888,\"#fdca26\"],[1.0,\"#f0f921\"]],\"type\":\"heatmap\"}],\"histogram2dcontour\":[{\"colorbar\":{\"outlinewidth\":0,\"ticks\":\"\"},\"colorscale\":[[0.0,\"#0d0887\"],[0.1111111111111111,\"#46039f\"],[0.2222222222222222,\"#7201a8\"],[0.3333333333333333,\"#9c179e\"],[0.4444444444444444,\"#bd3786\"],[0.5555555555555556,\"#d8576b\"],[0.6666666666666666,\"#ed7953\"],[0.7777777777777778,\"#fb9f3a\"],[0.8888888888888888,\"#fdca26\"],[1.0,\"#f0f921\"]],\"type\":\"histogram2dcontour\"}],\"histogram2d\":[{\"colorbar\":{\"outlinewidth\":0,\"ticks\":\"\"},\"colorscale\":[[0.0,\"#0d0887\"],[0.1111111111111111,\"#46039f\"],[0.2222222222222222,\"#7201a8\"],[0.3333333333333333,\"#9c179e\"],[0.4444444444444444,\"#bd3786\"],[0.5555555555555556,\"#d8576b\"],[0.6666666666666666,\"#ed7953\"],[0.7777777777777778,\"#fb9f3a\"],[0.8888888888888888,\"#fdca26\"],[1.0,\"#f0f921\"]],\"type\":\"histogram2d\"}],\"histogram\":[{\"marker\":{\"pattern\":{\"fillmode\":\"overlay\",\"size\":10,\"solidity\":0.2}},\"type\":\"histogram\"}],\"mesh3d\":[{\"colorbar\":{\"outlinewidth\":0,\"ticks\":\"\"},\"type\":\"mesh3d\"}],\"parcoords\":[{\"line\":{\"colorbar\":{\"outlinewidth\":0,\"ticks\":\"\"}},\"type\":\"parcoords\"}],\"pie\":[{\"automargin\":true,\"type\":\"pie\"}],\"scatter3d\":[{\"line\":{\"colorbar\":{\"outlinewidth\":0,\"ticks\":\"\"}},\"marker\":{\"colorbar\":{\"outlinewidth\":0,\"ticks\":\"\"}},\"type\":\"scatter3d\"}],\"scattercarpet\":[{\"marker\":{\"colorbar\":{\"outlinewidth\":0,\"ticks\":\"\"}},\"type\":\"scattercarpet\"}],\"scattergeo\":[{\"marker\":{\"colorbar\":{\"outlinewidth\":0,\"ticks\":\"\"}},\"type\":\"scattergeo\"}],\"scattergl\":[{\"marker\":{\"colorbar\":{\"outlinewidth\":0,\"ticks\":\"\"}},\"type\":\"scattergl\"}],\"scattermapbox\":[{\"marker\":{\"colorbar\":{\"outlinewidth\":0,\"ticks\":\"\"}},\"type\":\"scattermapbox\"}],\"scatterpolargl\":[{\"marker\":{\"colorbar\":{\"outlinewidth\":0,\"ticks\":\"\"}},\"type\":\"scatterpolargl\"}],\"scatterpolar\":[{\"marker\":{\"colorbar\":{\"outlinewidth\":0,\"ticks\":\"\"}},\"type\":\"scatterpolar\"}],\"scatter\":[{\"fillpattern\":{\"fillmode\":\"overlay\",\"size\":10,\"solidity\":0.2},\"type\":\"scatter\"}],\"scatterternary\":[{\"marker\":{\"colorbar\":{\"outlinewidth\":0,\"ticks\":\"\"}},\"type\":\"scatterternary\"}],\"surface\":[{\"colorbar\":{\"outlinewidth\":0,\"ticks\":\"\"},\"colorscale\":[[0.0,\"#0d0887\"],[0.1111111111111111,\"#46039f\"],[0.2222222222222222,\"#7201a8\"],[0.3333333333333333,\"#9c179e\"],[0.4444444444444444,\"#bd3786\"],[0.5555555555555556,\"#d8576b\"],[0.6666666666666666,\"#ed7953\"],[0.7777777777777778,\"#fb9f3a\"],[0.8888888888888888,\"#fdca26\"],[1.0,\"#f0f921\"]],\"type\":\"surface\"}],\"table\":[{\"cells\":{\"fill\":{\"color\":\"#EBF0F8\"},\"line\":{\"color\":\"white\"}},\"header\":{\"fill\":{\"color\":\"#C8D4E3\"},\"line\":{\"color\":\"white\"}},\"type\":\"table\"}]},\"layout\":{\"annotationdefaults\":{\"arrowcolor\":\"#2a3f5f\",\"arrowhead\":0,\"arrowwidth\":1},\"autotypenumbers\":\"strict\",\"coloraxis\":{\"colorbar\":{\"outlinewidth\":0,\"ticks\":\"\"}},\"colorscale\":{\"diverging\":[[0,\"#8e0152\"],[0.1,\"#c51b7d\"],[0.2,\"#de77ae\"],[0.3,\"#f1b6da\"],[0.4,\"#fde0ef\"],[0.5,\"#f7f7f7\"],[0.6,\"#e6f5d0\"],[0.7,\"#b8e186\"],[0.8,\"#7fbc41\"],[0.9,\"#4d9221\"],[1,\"#276419\"]],\"sequential\":[[0.0,\"#0d0887\"],[0.1111111111111111,\"#46039f\"],[0.2222222222222222,\"#7201a8\"],[0.3333333333333333,\"#9c179e\"],[0.4444444444444444,\"#bd3786\"],[0.5555555555555556,\"#d8576b\"],[0.6666666666666666,\"#ed7953\"],[0.7777777777777778,\"#fb9f3a\"],[0.8888888888888888,\"#fdca26\"],[1.0,\"#f0f921\"]],\"sequentialminus\":[[0.0,\"#0d0887\"],[0.1111111111111111,\"#46039f\"],[0.2222222222222222,\"#7201a8\"],[0.3333333333333333,\"#9c179e\"],[0.4444444444444444,\"#bd3786\"],[0.5555555555555556,\"#d8576b\"],[0.6666666666666666,\"#ed7953\"],[0.7777777777777778,\"#fb9f3a\"],[0.8888888888888888,\"#fdca26\"],[1.0,\"#f0f921\"]]},\"colorway\":[\"#636efa\",\"#EF553B\",\"#00cc96\",\"#ab63fa\",\"#FFA15A\",\"#19d3f3\",\"#FF6692\",\"#B6E880\",\"#FF97FF\",\"#FECB52\"],\"font\":{\"color\":\"#2a3f5f\"},\"geo\":{\"bgcolor\":\"white\",\"lakecolor\":\"white\",\"landcolor\":\"#E5ECF6\",\"showlakes\":true,\"showland\":true,\"subunitcolor\":\"white\"},\"hoverlabel\":{\"align\":\"left\"},\"hovermode\":\"closest\",\"mapbox\":{\"style\":\"light\"},\"paper_bgcolor\":\"white\",\"plot_bgcolor\":\"#E5ECF6\",\"polar\":{\"angularaxis\":{\"gridcolor\":\"white\",\"linecolor\":\"white\",\"ticks\":\"\"},\"bgcolor\":\"#E5ECF6\",\"radialaxis\":{\"gridcolor\":\"white\",\"linecolor\":\"white\",\"ticks\":\"\"}},\"scene\":{\"xaxis\":{\"backgroundcolor\":\"#E5ECF6\",\"gridcolor\":\"white\",\"gridwidth\":2,\"linecolor\":\"white\",\"showbackground\":true,\"ticks\":\"\",\"zerolinecolor\":\"white\"},\"yaxis\":{\"backgroundcolor\":\"#E5ECF6\",\"gridcolor\":\"white\",\"gridwidth\":2,\"linecolor\":\"white\",\"showbackground\":true,\"ticks\":\"\",\"zerolinecolor\":\"white\"},\"zaxis\":{\"backgroundcolor\":\"#E5ECF6\",\"gridcolor\":\"white\",\"gridwidth\":2,\"linecolor\":\"white\",\"showbackground\":true,\"ticks\":\"\",\"zerolinecolor\":\"white\"}},\"shapedefaults\":{\"line\":{\"color\":\"#2a3f5f\"}},\"ternary\":{\"aaxis\":{\"gridcolor\":\"white\",\"linecolor\":\"white\",\"ticks\":\"\"},\"baxis\":{\"gridcolor\":\"white\",\"linecolor\":\"white\",\"ticks\":\"\"},\"bgcolor\":\"#E5ECF6\",\"caxis\":{\"gridcolor\":\"white\",\"linecolor\":\"white\",\"ticks\":\"\"}},\"title\":{\"x\":0.05},\"xaxis\":{\"automargin\":true,\"gridcolor\":\"white\",\"linecolor\":\"white\",\"ticks\":\"\",\"title\":{\"standoff\":15},\"zerolinecolor\":\"white\",\"zerolinewidth\":2},\"yaxis\":{\"automargin\":true,\"gridcolor\":\"white\",\"linecolor\":\"white\",\"ticks\":\"\",\"title\":{\"standoff\":15},\"zerolinecolor\":\"white\",\"zerolinewidth\":2}}},\"title\":{\"font\":{\"color\":\"#4D5663\"}},\"xaxis\":{\"gridcolor\":\"#E1E5ED\",\"showgrid\":true,\"tickfont\":{\"color\":\"#4D5663\"},\"title\":{\"font\":{\"color\":\"#4D5663\"},\"text\":\"\"},\"zerolinecolor\":\"#E1E5ED\"},\"yaxis\":{\"gridcolor\":\"#E1E5ED\",\"showgrid\":true,\"tickfont\":{\"color\":\"#4D5663\"},\"title\":{\"font\":{\"color\":\"#4D5663\"},\"text\":\"\"},\"zerolinecolor\":\"#E1E5ED\"}},                        {\"showLink\": true, \"linkText\": \"Export to plot.ly\", \"plotlyServerURL\": \"https://plot.ly\", \"responsive\": true}                    ).then(function(){\n",
       "                            \n",
       "var gd = document.getElementById('84bbf8aa-b0d3-44a1-bc3b-bed5b91fb184');\n",
       "var x = new MutationObserver(function (mutations, observer) {{\n",
       "        var display = window.getComputedStyle(gd).display;\n",
       "        if (!display || display === 'none') {{\n",
       "            console.log([gd, 'removed!']);\n",
       "            Plotly.purge(gd);\n",
       "            observer.disconnect();\n",
       "        }}\n",
       "}});\n",
       "\n",
       "// Listen for the removal of the full notebook cells\n",
       "var notebookContainer = gd.closest('#notebook-container');\n",
       "if (notebookContainer) {{\n",
       "    x.observe(notebookContainer, {childList: true});\n",
       "}}\n",
       "\n",
       "// Listen for the clearing of the current output cell\n",
       "var outputEl = gd.closest('.output');\n",
       "if (outputEl) {{\n",
       "    x.observe(outputEl, {childList: true});\n",
       "}}\n",
       "\n",
       "                        })                };                });            </script>        </div>"
      ]
     },
     "metadata": {},
     "output_type": "display_data"
    }
   ],
   "source": [
    "big_data[\"host_response_time\"].iplot(kind=\"hist\")"
   ]
  },
  {
   "cell_type": "code",
   "execution_count": null,
   "id": "b84731f2-584a-4401-bed5-4c95c175b94f",
   "metadata": {},
   "outputs": [],
   "source": []
  }
 ],
 "metadata": {
  "kernelspec": {
   "display_name": "Python 3 (ipykernel)",
   "language": "python",
   "name": "python3"
  },
  "language_info": {
   "codemirror_mode": {
    "name": "ipython",
    "version": 3
   },
   "file_extension": ".py",
   "mimetype": "text/x-python",
   "name": "python",
   "nbconvert_exporter": "python",
   "pygments_lexer": "ipython3",
   "version": "3.12.2"
  }
 },
 "nbformat": 4,
 "nbformat_minor": 5
}
